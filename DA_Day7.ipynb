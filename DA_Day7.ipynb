{
  "cells": [
    {
      "cell_type": "code",
      "execution_count": null,
      "metadata": {
        "id": "0sydzt_69rA2"
      },
      "outputs": [],
      "source": [
        "import tensorflow as tf\n",
        "\n",
        "from tensorflow import keras\n",
        "\n",
        "from tensorflow.keras import layers\n",
        "\n",
        "from tensorflow.keras.preprocessing.image import ImageDataGenerator\n",
        "\n",
        "# Define Image sized batch size\n",
        "\n",
        "IMG_SIZE=224\n",
        "\n",
        "BATCH_SIZE=32"
      ]
    },
    {
      "cell_type": "code",
      "execution_count": null,
      "metadata": {
        "colab": {
          "base_uri": "https://localhost:8080/"
        },
        "id": "SyvAGyHrgkW8",
        "outputId": "085ffc72-0ecf-474b-b105-990db83d3405"
      },
      "outputs": [
        {
          "name": "stdout",
          "output_type": "stream",
          "text": [
            "Found 2400 images belonging to 2 classes.\n",
            "Found 600 images belonging to 2 classes.\n",
            "Found 60 images belonging to 1 classes.\n"
          ]
        }
      ],
      "source": [
        "#Define data generators for train,validation and test sets\n",
        "train_datagen=ImageDataGenerator(\n",
        "    rescale=1./255,\n",
        "    validation_split=0.2\n",
        ")\n",
        "\n",
        "train_generator=train_datagen.flow_from_directory('/content/drive/MyDrive/train',\n",
        "    target_size=(IMG_SIZE,IMG_SIZE),\n",
        "    batch_size=BATCH_SIZE,\n",
        "    class_mode='binary',\n",
        "    subset='training'\n",
        ")\n",
        "val_generator=train_datagen.flow_from_directory('/content/drive/MyDrive/train',\n",
        "    target_size=(IMG_SIZE,IMG_SIZE),\n",
        "    batch_size=BATCH_SIZE,\n",
        "    class_mode='binary',\n",
        "    subset='validation')\n",
        "test_datagen = ImageDataGenerator(rescale=1./225)\n",
        "test_generator= train_datagen.flow_from_directory('/content/drive/MyDrive/test',\n",
        "    target_size = (IMG_SIZE, IMG_SIZE),\n",
        "    batch_size = BATCH_SIZE,\n",
        "    class_mode = 'binary',\n",
        "  )"
      ]
    },
    {
      "cell_type": "code",
      "execution_count": null,
      "metadata": {
        "colab": {
          "base_uri": "https://localhost:8080/"
        },
        "id": "pHwilzoXiLLP",
        "outputId": "fcf0e715-3ba2-4ad3-d690-6700148aa699"
      },
      "outputs": [
        {
          "name": "stdout",
          "output_type": "stream",
          "text": [
            "Drive already mounted at /content/drive; to attempt to forcibly remount, call drive.mount(\"/content/drive\", force_remount=True).\n"
          ]
        }
      ],
      "source": [
        "from google.colab import drive\n",
        "drive.mount('/content/drive')"
      ]
    },
    {
      "cell_type": "code",
      "execution_count": null,
      "metadata": {
        "id": "11csCXLkl96x"
      },
      "outputs": [],
      "source": [
        "#define the model\n",
        "model=keras.Sequential([\n",
        "    layers.Conv2D(32,(3,3),activation='relu',input_shape=(IMG_SIZE,IMG_SIZE,3)),\n",
        "    layers.MaxPooling2D((2,2)),\n",
        "    layers.Conv2D(64,(3,3),activation='relu'),\n",
        "    layers.MaxPooling2D((2,2)),\n",
        "    layers.Conv2D(128,(3,3),activation='relu'),\n",
        "    layers.MaxPooling2D((2,2)),\n",
        "    layers.Flatten(),\n",
        "    layers.Dense(128,activation='relu'),\n",
        "    layers.Dense(1,activation='sigmoid')\n",
        "    ])"
      ]
    },
    {
      "cell_type": "code",
      "execution_count": null,
      "metadata": {
        "id": "ld56LDmPnVOH"
      },
      "outputs": [],
      "source": [
        "#compile the model\n",
        "model.compile(optimizer='adam',loss='binary_crossentropy',metrics=['accuracy'])"
      ]
    },
    {
      "cell_type": "code",
      "execution_count": null,
      "metadata": {
        "colab": {
          "background_save": true,
          "base_uri": "https://localhost:8080/"
        },
        "id": "bE1-fC-ZpoQE",
        "outputId": "b7161aac-e1dc-4ab4-a2fa-6ddecb91957b"
      },
      "outputs": [
        {
          "name": "stdout",
          "output_type": "stream",
          "text": [
            "Epoch 1/5\n",
            "75/75 [==============================] - 287s 4s/step - loss: 0.0732 - accuracy: 0.9796 - val_loss: 0.0888 - val_accuracy: 0.9717\n",
            "Epoch 2/5\n",
            "75/75 [==============================] - 284s 4s/step - loss: 0.0373 - accuracy: 0.9896 - val_loss: 0.0420 - val_accuracy: 0.9867\n",
            "Epoch 3/5\n",
            "75/75 [==============================] - 306s 4s/step - loss: 0.0224 - accuracy: 0.9958 - val_loss: 0.0304 - val_accuracy: 0.9883\n",
            "Epoch 4/5\n",
            "75/75 [==============================] - 289s 4s/step - loss: 0.0137 - accuracy: 0.9983 - val_loss: 0.0237 - val_accuracy: 0.9900\n",
            "Epoch 5/5\n",
            "75/75 [==============================] - 306s 4s/step - loss: 0.0081 - accuracy: 0.9979 - val_loss: 0.0250 - val_accuracy: 0.9883\n"
          ]
        }
      ],
      "source": [
        "history=model.fit(train_generator,validation_data=val_generator,epochs=5)"
      ]
    },
    {
      "cell_type": "code",
      "execution_count": null,
      "metadata": {
        "colab": {
          "base_uri": "https://localhost:8080/"
        },
        "id": "5qcNH6iqqsoA",
        "outputId": "7852b301-d9ee-49f9-c10e-7cf6fe233c51"
      },
      "outputs": [
        {
          "name": "stderr",
          "output_type": "stream",
          "text": [
            "/usr/local/lib/python3.10/dist-packages/keras/src/engine/training.py:3103: UserWarning: You are saving your model as an HDF5 file via `model.save()`. This file format is considered legacy. We recommend using instead the native Keras format, e.g. `model.save('my_model.keras')`.\n",
            "  saving_api.save_model(\n"
          ]
        }
      ],
      "source": [
        "model.save(\"model..h5\",\"label.txt\")"
      ]
    },
    {
      "cell_type": "code",
      "execution_count": null,
      "metadata": {
        "colab": {
          "base_uri": "https://localhost:8080/"
        },
        "id": "_NnjHD_ZqtO6",
        "outputId": "81297b86-f91a-4169-f584-c95f10a1589d"
      },
      "outputs": [
        {
          "name": "stdout",
          "output_type": "stream",
          "text": [
            "1/1 [==============================] - 0s 273ms/step\n",
            "Prediction: No tumor (Probability: 0.4830839 )\n"
          ]
        }
      ],
      "source": [
        "from tensorflow.keras.models import load_model\n",
        "from tensorflow.keras.preprocessing import image\n",
        "import numpy as np\n",
        "\n",
        "# Load the saved model\n",
        "\n",
        "model=load_model('/content/model..h5')\n",
        "\n",
        "#Load and preprocess the test image\n",
        "\n",
        "\n",
        "test_image_path='/content/drive/MyDrive/train/no/y1.jpg'\n",
        "\n",
        "img=image.load_img(test_image_path, target_size=(224, 224))\n",
        "\n",
        "img_array= image.img_to_array(img)\n",
        "\n",
        "img_array = np.expand_dims(img_array, axis=0) # Add batch dimension\n",
        "\n",
        "img_array /= 255. # Normalize the pixel values\n",
        "\n",
        "#Make predictions\n",
        "prediction = model.predict(img_array)\n",
        "# print the prediction\n",
        "\n",
        "if prediction < 0.5:\n",
        "  print(\"Prediction: No tumor (Probability:\", prediction[0][0], \")\")\n",
        "\n",
        "else:\n",
        "   print(\"Prediction: Tumor present (Probability:\", prediction[0][0], \")\")"
      ]
    }
  ],
  "metadata": {
    "colab": {
      "provenance": []
    },
    "kernelspec": {
      "display_name": "Python 3",
      "name": "python3"
    },
    "language_info": {
      "name": "python"
    }
  },
  "nbformat": 4,
  "nbformat_minor": 0
}
