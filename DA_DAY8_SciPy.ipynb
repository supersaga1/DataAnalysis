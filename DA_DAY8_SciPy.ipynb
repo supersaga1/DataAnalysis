{
  "nbformat": 4,
  "nbformat_minor": 0,
  "metadata": {
    "colab": {
      "provenance": []
    },
    "kernelspec": {
      "name": "python3",
      "display_name": "Python 3"
    },
    "language_info": {
      "name": "python"
    }
  },
  "cells": [
    {
      "cell_type": "markdown",
      "source": [
        "STATISTICAL ANALYSIS\n",
        "\n",
        "Statistical analysis using SciPy and statsmodels for hypothesis testing, regression analysis, and ANOVA\n",
        "\n",
        "SciPy is an open-source scientific computing library for Python that builds on NumPy. It provides many additional functionalities compared to NumPy, including optimization, integration, interpolation, eigenvalue problems, signal and image processing, statistical distributions, and much more."
      ],
      "metadata": {
        "id": "Cin_h_bw9yeE"
      }
    },
    {
      "cell_type": "code",
      "execution_count": null,
      "metadata": {
        "colab": {
          "base_uri": "https://localhost:8080/"
        },
        "id": "BJhnLpfD8xHO",
        "outputId": "b493a16c-2613-4cf9-ec52-1d93a75e8c92"
      },
      "outputs": [
        {
          "output_type": "stream",
          "name": "stdout",
          "text": [
            "Result: 0.33333333333333337\n",
            "Error: 3.700743415417189e-15\n"
          ]
        }
      ],
      "source": [
        "import scipy\n",
        "from scipy import integrate\n",
        "\n",
        "# Example: Integration using quad function from scipy import integrate\n",
        "\n",
        "result, error=integrate.quad(lambda x: x**2, 0, 1)\n",
        "print(\"Result:\", result)\n",
        "print(\"Error:\",error)"
      ]
    },
    {
      "cell_type": "code",
      "source": [
        "import numpy as np\n",
        "from scipy import optimize\n",
        "# minimize_scalar=(-b/2a)\n",
        "#Optimization\n",
        "\n",
        "result_optimization=optimize.minimize_scalar(lambda x: x**2 + 3*x + 5)\n",
        "\n",
        "print(\"Optimization Result:\", result_optimization.x)"
      ],
      "metadata": {
        "colab": {
          "base_uri": "https://localhost:8080/"
        },
        "id": "QrSHtoi-9xe5",
        "outputId": "5b0ffa30-dcae-401a-c63d-2338352e90b7"
      },
      "execution_count": null,
      "outputs": [
        {
          "output_type": "stream",
          "name": "stdout",
          "text": [
            "Optimization Result: -1.5000000000000002\n"
          ]
        }
      ]
    },
    {
      "cell_type": "code",
      "source": [
        "square=lambda x: x**2\n",
        "#using the lambda function\n",
        "result=square(5)\n",
        "print(\"Result\",result)"
      ],
      "metadata": {
        "colab": {
          "base_uri": "https://localhost:8080/"
        },
        "id": "FxswXdNT-u6B",
        "outputId": "4e4f2257-7f64-4ce8-e7c7-b18e45952c2f"
      },
      "execution_count": null,
      "outputs": [
        {
          "output_type": "stream",
          "name": "stdout",
          "text": [
            "Result 25\n"
          ]
        }
      ]
    },
    {
      "cell_type": "code",
      "source": [
        "add_numbers=lambda x, y:x+y\n",
        "#using the lambda function\n",
        "result=add_numbers(3,7)\n",
        "print(\"Result\",result)"
      ],
      "metadata": {
        "colab": {
          "base_uri": "https://localhost:8080/"
        },
        "id": "7f0nqIpI_Es8",
        "outputId": "35f50252-592c-478b-de7c-bcfd93093382"
      },
      "execution_count": null,
      "outputs": [
        {
          "output_type": "stream",
          "name": "stdout",
          "text": [
            "Result 10\n"
          ]
        }
      ]
    },
    {
      "cell_type": "markdown",
      "source": [
        " #y=y1+(x-x1)*(y2-y1)(x2-x1)"
      ],
      "metadata": {
        "id": "ZE7n-cXhC-NK"
      }
    },
    {
      "cell_type": "code",
      "source": [
        "import numpy as np\n",
        "from scipy import interpolate\n",
        "#Interpolation\n",
        "x_data = np.array([0, 1, 2, 3, 4])\n",
        "y_data = np.array([0, 2, 1, 3, 5])\n",
        "interp_func=interpolate.interp1d(x_data, y_data, kind='linear')\n",
        "interp_result=interp_func(2.5)\n",
        "print(\"Interpolation Result:\", interp_result)"
      ],
      "metadata": {
        "colab": {
          "base_uri": "https://localhost:8080/"
        },
        "id": "dPdUTbqO_uxV",
        "outputId": "4d62058f-4fa5-4468-b646-5d431d3bcc42"
      },
      "execution_count": null,
      "outputs": [
        {
          "output_type": "stream",
          "name": "stdout",
          "text": [
            "Interpolation Result: 2.0\n"
          ]
        }
      ]
    },
    {
      "cell_type": "code",
      "source": [
        "!pip install  statsmodels"
      ],
      "metadata": {
        "colab": {
          "base_uri": "https://localhost:8080/"
        },
        "id": "uhA27KA3Fr0k",
        "outputId": "7fdf2e56-e858-4b77-e397-72f321d205cc"
      },
      "execution_count": null,
      "outputs": [
        {
          "output_type": "stream",
          "name": "stdout",
          "text": [
            "Requirement already satisfied: statsmodels in /usr/local/lib/python3.10/dist-packages (0.14.1)\n",
            "Requirement already satisfied: numpy<2,>=1.18 in /usr/local/lib/python3.10/dist-packages (from statsmodels) (1.25.2)\n",
            "Requirement already satisfied: scipy!=1.9.2,>=1.4 in /usr/local/lib/python3.10/dist-packages (from statsmodels) (1.11.4)\n",
            "Requirement already satisfied: pandas!=2.1.0,>=1.0 in /usr/local/lib/python3.10/dist-packages (from statsmodels) (1.5.3)\n",
            "Requirement already satisfied: patsy>=0.5.4 in /usr/local/lib/python3.10/dist-packages (from statsmodels) (0.5.6)\n",
            "Requirement already satisfied: packaging>=21.3 in /usr/local/lib/python3.10/dist-packages (from statsmodels) (23.2)\n",
            "Requirement already satisfied: python-dateutil>=2.8.1 in /usr/local/lib/python3.10/dist-packages (from pandas!=2.1.0,>=1.0->statsmodels) (2.8.2)\n",
            "Requirement already satisfied: pytz>=2020.1 in /usr/local/lib/python3.10/dist-packages (from pandas!=2.1.0,>=1.0->statsmodels) (2023.4)\n",
            "Requirement already satisfied: six in /usr/local/lib/python3.10/dist-packages (from patsy>=0.5.4->statsmodels) (1.16.0)\n"
          ]
        }
      ]
    },
    {
      "cell_type": "code",
      "source": [
        "import numpy as np\n",
        "import pandas as pd\n",
        "import scipy.stats as stats\n",
        "import statsmodels.api as sm"
      ],
      "metadata": {
        "id": "3HOt8poMFRXW"
      },
      "execution_count": null,
      "outputs": []
    },
    {
      "cell_type": "code",
      "source": [
        "#Generate sample data\n",
        "np.random.seed(0)\n",
        "data =pd.DataFrame({\n",
        "    'Treatment':np.random.choice(['A','B','C'],size=100),\n",
        "    'Score':np.random.normal(loc=10,scale=2,size=100)#mean is loc,sd is scale\n",
        "})\n",
        "print(data)"
      ],
      "metadata": {
        "colab": {
          "base_uri": "https://localhost:8080/"
        },
        "id": "FEOE_pepGAeY",
        "outputId": "b3a16a29-5e91-4d0a-a45e-99d95cf3c730"
      },
      "execution_count": null,
      "outputs": [
        {
          "output_type": "stream",
          "name": "stdout",
          "text": [
            "   Treatment      Score\n",
            "0          A   8.626821\n",
            "1          B  10.029747\n",
            "2          A   9.248668\n",
            "3          B   9.923553\n",
            "4          B  10.735949\n",
            "..       ...        ...\n",
            "95         A   9.933528\n",
            "96         C  10.131283\n",
            "97         A  10.531571\n",
            "98         B  12.303684\n",
            "99         C  10.276086\n",
            "\n",
            "[100 rows x 2 columns]\n"
          ]
        }
      ]
    },
    {
      "cell_type": "code",
      "source": [
        "#Calculate mean score for treatment group\n",
        "mean_score_per_group=data.groupby('Treatment')['Score'].mean()\n",
        "print(mean_score_per_group)"
      ],
      "metadata": {
        "colab": {
          "base_uri": "https://localhost:8080/"
        },
        "id": "dkrG5Y02IJwR",
        "outputId": "dd6fceec-6b4d-46aa-c835-ed2743cca765"
      },
      "execution_count": null,
      "outputs": [
        {
          "output_type": "stream",
          "name": "stdout",
          "text": [
            "Treatment\n",
            "A     9.611241\n",
            "B    10.099304\n",
            "C    10.010667\n",
            "Name: Score, dtype: float64\n"
          ]
        }
      ]
    },
    {
      "cell_type": "code",
      "source": [
        "choices=['A','B','c']\n",
        "size=100\n",
        "treatment_column=np.random.choice(choices,size=size)\n",
        "print(treatment_column)"
      ],
      "metadata": {
        "colab": {
          "base_uri": "https://localhost:8080/"
        },
        "id": "L1_ZPSKsJAUI",
        "outputId": "eb8c88d9-ffca-4a78-9719-c20843592aed"
      },
      "execution_count": null,
      "outputs": [
        {
          "output_type": "stream",
          "name": "stdout",
          "text": [
            "['B' 'B' 'c' 'A' 'B' 'A' 'B' 'B' 'c' 'A' 'c' 'A' 'c' 'A' 'c' 'A' 'A' 'A'\n",
            " 'A' 'B' 'c' 'A' 'A' 'B' 'c' 'B' 'A' 'A' 'A' 'A' 'A' 'B' 'A' 'c' 'c' 'c'\n",
            " 'A' 'A' 'c' 'A' 'c' 'c' 'A' 'B' 'B' 'B' 'A' 'A' 'B' 'A' 'A' 'B' 'c' 'c'\n",
            " 'A' 'c' 'B' 'B' 'c' 'B' 'c' 'c' 'B' 'c' 'A' 'A' 'c' 'B' 'B' 'c' 'c' 'B'\n",
            " 'A' 'c' 'A' 'c' 'A' 'c' 'B' 'c' 'B' 'A' 'B' 'B' 'c' 'c' 'A' 'B' 'A' 'A'\n",
            " 'A' 'c' 'A' 'B' 'A' 'c' 'B' 'A' 'B' 'c']\n"
          ]
        }
      ]
    },
    {
      "cell_type": "code",
      "source": [
        "mean=10\n",
        "std=2\n",
        "size=100\n",
        "score_values=mean+std*np.random.randn(size)\n",
        "print(score_values)"
      ],
      "metadata": {
        "colab": {
          "base_uri": "https://localhost:8080/"
        },
        "id": "A69Pf79-KZxw",
        "outputId": "f4ee1b2a-697d-4858-b7de-d16ea89da24c"
      },
      "execution_count": null,
      "outputs": [
        {
          "output_type": "stream",
          "name": "stdout",
          "text": [
            "[11.04397546 12.39451973  9.23502757 11.38332384 10.70777002 12.09517067\n",
            "  9.15220753  2.97046376  7.31368654 12.85101225 10.45716402  9.48467248\n",
            " 10.10074143  7.23957825  9.47665587  9.64124061  8.61445885 12.27565373\n",
            "  9.6616855   8.47217266  9.00385379  9.27421777 10.52792062  8.74071618\n",
            "  9.05548319  6.97327793 12.21524936 10.3524775   8.11929292 11.85918866\n",
            "  7.87441016  8.22718746 13.84269391  9.08043895  7.82193113 11.96823459\n",
            "  7.68158735  9.12692581 12.01848906 11.42677914  8.54388456 11.67903292\n",
            " 12.47804196  6.43039223  8.40762832  7.19891747  9.63129885  7.21761377\n",
            " 10.07251948  8.37118888 11.39474565  6.52514152 10.2317114  10.73130289\n",
            "  9.85215307  9.01296486 16.20306117 11.71750831  7.69044895 11.88366868\n",
            "  9.43572972  8.04869067 10.19637338 11.81097991 12.03748287  9.77020229\n",
            " 13.48607744  9.35624162 11.65914219  9.58536401 12.23599721 12.12849937\n",
            " 12.30265967  8.45508459  7.41273144 11.35405362 10.8481104   9.02864765\n",
            "  9.89660553 11.13411274 12.13566715 10.54319148 11.23860353  9.88274801\n",
            " 12.5131428  10.59349439 10.79717145  7.89365124  8.72104747  9.70294624\n",
            "  6.85083571  9.00862361  9.76485041 10.74624032  9.22794246  7.53881377\n",
            "  6.08345678  8.96407463 11.15959759  7.29253432]\n"
          ]
        }
      ]
    },
    {
      "cell_type": "code",
      "source": [
        "#Hypothesis Testing(t-test)\n",
        "group_A=data[data['Treatment']=='A']['Score']\n",
        "group_B=data[data['Treatment']=='B']['Score']\n",
        "t_stat,p_value=stats.ttest_ind(group_A,group_B)\n",
        "print(\"t-statistic:\",t_stat)\n",
        "print(\"p-value:\",p_value)"
      ],
      "metadata": {
        "colab": {
          "base_uri": "https://localhost:8080/"
        },
        "id": "Mvq7UpAILZE2",
        "outputId": "1933535b-e5fc-4c98-e0b8-586756c5644a"
      },
      "execution_count": null,
      "outputs": [
        {
          "output_type": "stream",
          "name": "stdout",
          "text": [
            "t-statistic: -1.0341676575352792\n",
            "p-value: 0.3045674995802033\n"
          ]
        }
      ]
    },
    {
      "cell_type": "code",
      "source": [
        "np.random.seed(0)\n",
        "data=pd.DataFrame({\n",
        "    'Treatment': np.random.choice(['1','2','3'],size=10),\n",
        "    'Score':np.random.normal(loc=10,scale=2,size=10)  #loc=meam   scale=standard deviation\n",
        "})\n",
        "print(data)"
      ],
      "metadata": {
        "colab": {
          "base_uri": "https://localhost:8080/"
        },
        "id": "zuv2CNd-U2mw",
        "outputId": "47674900-0aaf-4047-eccf-f05fe6e6b5f5"
      },
      "execution_count": null,
      "outputs": [
        {
          "output_type": "stream",
          "name": "stdout",
          "text": [
            "  Treatment      Score\n",
            "0         1   9.653861\n",
            "1         2   6.476697\n",
            "2         1   9.824654\n",
            "3         2  12.733759\n",
            "4         2  12.250628\n",
            "5         3   9.282009\n",
            "6         1  12.441216\n",
            "7         3   7.321009\n",
            "8         1  10.856747\n",
            "9         1   9.753074\n"
          ]
        }
      ]
    },
    {
      "cell_type": "code",
      "source": [
        "mean_score_per_group=data.groupby('Treatment')['Score'].mean()\n",
        "print(mean_score_per_group)"
      ],
      "metadata": {
        "colab": {
          "base_uri": "https://localhost:8080/"
        },
        "id": "TOyiSWI5VAg1",
        "outputId": "b43499fc-0eff-4dff-c5c3-ab98173ce7ac"
      },
      "execution_count": null,
      "outputs": [
        {
          "output_type": "stream",
          "name": "stdout",
          "text": [
            "Treatment\n",
            "1    10.505910\n",
            "2    10.487028\n",
            "3     8.301509\n",
            "Name: Score, dtype: float64\n"
          ]
        }
      ]
    },
    {
      "cell_type": "code",
      "source": [
        "mean=10\n",
        "std=2\n",
        "size=10\n",
        "score_values=mean+std * np.random.randn(size)\n",
        "print(score_values)"
      ],
      "metadata": {
        "colab": {
          "base_uri": "https://localhost:8080/"
        },
        "id": "RDCOzW-AVG8R",
        "outputId": "a87fddd7-0410-4220-c574-b6bfe333268b"
      },
      "execution_count": null,
      "outputs": [
        {
          "output_type": "stream",
          "name": "stdout",
          "text": [
            "[12.82875438  9.75189867 14.01631418 10.45977307 11.20978747 13.25431965\n",
            " 13.18912107 10.46086834  9.87017931  8.0620395 ]\n"
          ]
        }
      ]
    },
    {
      "cell_type": "code",
      "source": [
        "choices=['1','2','3']\n",
        "size=10\n",
        "treatment_column=np.random.choice(choices,size=size)\n",
        "print(treatment_column)"
      ],
      "metadata": {
        "colab": {
          "base_uri": "https://localhost:8080/"
        },
        "id": "WgCB_iMOVJxM",
        "outputId": "15182347-5bee-4e7f-c405-ccf78f60755f"
      },
      "execution_count": null,
      "outputs": [
        {
          "output_type": "stream",
          "name": "stdout",
          "text": [
            "['3' '3' '1' '3' '1' '1' '1' '2' '2' '3']\n"
          ]
        }
      ]
    },
    {
      "cell_type": "code",
      "source": [
        "group_1=data[data['Treatment']=='1']['Score']\n",
        "group_2=data[data['Treatment']=='2']['Score']\n",
        "t_stat,p_value=stats.ttest_ind(group_1,group_2)\n",
        "print(\"t-statistic:\",t_stat)\n",
        "print(\"p-value\",p_value)"
      ],
      "metadata": {
        "colab": {
          "base_uri": "https://localhost:8080/"
        },
        "id": "PtGxeFbXVQFq",
        "outputId": "b31ed141-5198-4676-fd66-64b94d55580e"
      },
      "execution_count": null,
      "outputs": [
        {
          "output_type": "stream",
          "name": "stdout",
          "text": [
            "t-statistic: 0.011588929432828264\n",
            "p-value 0.9911293054731878\n"
          ]
        }
      ]
    },
    {
      "cell_type": "code",
      "source": [
        "# ANOVA (One-way ANOVA)\n",
        "\n",
        "f_stat, p_value = stats.f_oneway (data[data['Treatment'] == 'A']['Score'],\n",
        "\n",
        "data[data['Treatment'] == 'B']['Score'], data[data['Treatment'] == 'C']['Score'])\n",
        "\n",
        "print(\"F-statistic:\", f_stat)\n",
        "\n",
        "print(\"p-value:\", p_value)"
      ],
      "metadata": {
        "colab": {
          "base_uri": "https://localhost:8080/"
        },
        "id": "iO-JcTU_VRfW",
        "outputId": "cc79860c-44bf-4390-feab-d0015abf0704"
      },
      "execution_count": null,
      "outputs": [
        {
          "output_type": "stream",
          "name": "stdout",
          "text": [
            "F-statistic: nan\n",
            "p-value: nan\n"
          ]
        },
        {
          "output_type": "stream",
          "name": "stderr",
          "text": [
            "/usr/local/lib/python3.10/dist-packages/scipy/stats/_stats_py.py:4133: DegenerateDataWarning: at least one input has length 0\n",
            "  warnings.warn(stats.DegenerateDataWarning('at least one input '\n"
          ]
        }
      ]
    },
    {
      "cell_type": "code",
      "source": [
        "import numpy as np\n",
        "import statsmodels.api as sm\n",
        "# Sample data\n",
        "X = np.array([1, 2, 3, 4, 5])  # Independent variable\n",
        "y = np.array([2, 4, 5, 4, 5])  # Dependent variable\n",
        "# Add a constant to the independent variable (for intercept estimation)\n",
        "X = sm.add_constant(X)\n",
        "# Create OLS model\n",
        "model = sm.OLS(y, X)\n",
        "# Fit the model\n",
        "results = model.fit()\n",
        "# Print summary of results\n",
        "print(results.summary())"
      ],
      "metadata": {
        "id": "8s-rgvYH8Ire"
      },
      "execution_count": null,
      "outputs": []
    },
    {
      "cell_type": "code",
      "source": [
        "np.random.seed(0)\n",
        "data=pd.DataFrame({\n",
        "    'Treatment': np.random.choice(['1','2','3'],size=10),\n",
        "    'Score': np.random.normal(loc=10,scale=2,size=10) #loc=meam   scale=standard deviation\n",
        "     print(data)\n",
        "     print(Treatment)\n",
        "    'Treatment'==sm.add_constant(['Treatment'])\n",
        "     model = sm.OLS(Score,Treatment)\n",
        "     results = model.fit()\n",
        "     print(results.summary())\n",
        "})\n"
      ],
      "metadata": {
        "id": "19pDcUsA-QQU"
      },
      "execution_count": null,
      "outputs": []
    }
  ]
}