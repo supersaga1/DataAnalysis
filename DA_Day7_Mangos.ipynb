{
  "nbformat": 4,
  "nbformat_minor": 0,
  "metadata": {
    "colab": {
      "provenance": []
    },
    "kernelspec": {
      "name": "python3",
      "display_name": "Python 3"
    },
    "language_info": {
      "name": "python"
    }
  },
  "cells": [
    {
      "cell_type": "code",
      "source": [
        "import tensorflow as tf\n",
        "from tensorflow import keras\n",
        "from tensorflow.keras import layers\n",
        "from tensorflow.keras.preprocessing.image import ImageDataGenerator\n",
        "#define image size and batch size\n",
        "IMG_SIZE=600\n",
        "BATCH_SIZE=32"
      ],
      "metadata": {
        "id": "CUsPq3ZRJMj7"
      },
      "execution_count": null,
      "outputs": []
    },
    {
      "cell_type": "code",
      "source": [
        "#Define data generators for train,validation and test sets\n",
        "train_datagen=ImageDataGenerator(\n",
        "     rescale=1./255,\n",
        "     validation_split=0.2\n",
        " )\n",
        "train_generator=train_datagen.flow_from_directory('/content/drive/MyDrive/mangoes/train',\n",
        "    target_size=(IMG_SIZE,IMG_SIZE),\n",
        "    batch_size=BATCH_SIZE,\n",
        "    class_mode='binary',\n",
        "    subset='training'\n",
        ")\n",
        "val_generator=train_datagen.flow_from_directory('/content/drive/MyDrive/mangoes/train',\n",
        "    target_size=(IMG_SIZE,IMG_SIZE),\n",
        "    batch_size=BATCH_SIZE,\n",
        "    class_mode='binary',\n",
        "    subset='validation'\n",
        ")\n",
        "test_datagen=ImageDataGenerator(rescale=1./255)\n",
        "test_generator=test_datagen.flow_from_directory('/content/drive/MyDrive/mangoes/test',\n",
        "    target_size=(IMG_SIZE,IMG_SIZE),\n",
        "    batch_size=BATCH_SIZE,\n",
        "    class_mode='binary'\n",
        ")"
      ],
      "metadata": {
        "colab": {
          "base_uri": "https://localhost:8080/"
        },
        "id": "dh72RE-EJNpn",
        "outputId": "7a2b13e2-fdde-400b-9b08-8b0e68079352"
      },
      "execution_count": null,
      "outputs": [
        {
          "output_type": "stream",
          "name": "stdout",
          "text": [
            "Found 16 images belonging to 2 classes.\n",
            "Found 4 images belonging to 2 classes.\n",
            "Found 10 images belonging to 1 classes.\n"
          ]
        }
      ]
    },
    {
      "cell_type": "code",
      "source": [
        "from google.colab import drive\n",
        "drive.mount('/content/drive')"
      ],
      "metadata": {
        "colab": {
          "base_uri": "https://localhost:8080/"
        },
        "id": "QRH_fwzaJWXi",
        "outputId": "90c4e1b1-34e8-47cd-e0be-3d5979567759"
      },
      "execution_count": null,
      "outputs": [
        {
          "output_type": "stream",
          "name": "stdout",
          "text": [
            "Mounted at /content/drive\n"
          ]
        }
      ]
    },
    {
      "cell_type": "code",
      "source": [
        "#define the model\n",
        "model=keras.Sequential([\n",
        "    layers.Conv2D(32,(3,3),activation='relu',input_shape=(IMG_SIZE,IMG_SIZE,3)),\n",
        "    layers.MaxPooling2D((2,2)),\n",
        "    layers.Conv2D(64,(3,3),activation='relu'),\n",
        "    layers.MaxPooling2D((2,2)),\n",
        "    layers.Conv2D(128,(3,3),activation='relu'),\n",
        "    layers.MaxPooling2D((2,2)),\n",
        "    layers.Flatten(),\n",
        "    layers.Dense(128,activation='relu'),\n",
        "    layers.Dense(1,activation='sigmoid')\n",
        "])"
      ],
      "metadata": {
        "id": "P4osLTaWJfeV"
      },
      "execution_count": null,
      "outputs": []
    },
    {
      "cell_type": "code",
      "source": [
        "#compile the model\n",
        "model.compile(optimizer='adam',loss='binary_crossentropy',metrics=['accuracy'])\n"
      ],
      "metadata": {
        "id": "BjaPVpCKJkCx"
      },
      "execution_count": null,
      "outputs": []
    },
    {
      "cell_type": "code",
      "source": [
        "history=model.fit(train_generator,validation_data=val_generator,epochs=6)"
      ],
      "metadata": {
        "colab": {
          "base_uri": "https://localhost:8080/"
        },
        "id": "PRyOYv6hJqnM",
        "outputId": "d339b576-b406-4fe8-873a-f0e309725bcd"
      },
      "execution_count": null,
      "outputs": [
        {
          "output_type": "stream",
          "name": "stdout",
          "text": [
            "Epoch 1/6\n",
            "1/1 [==============================] - 17s 17s/step - loss: 0.6984 - accuracy: 0.5000 - val_loss: 26.7460 - val_accuracy: 0.5000\n",
            "Epoch 2/6\n",
            "1/1 [==============================] - 14s 14s/step - loss: 26.2670 - accuracy: 0.5000 - val_loss: 13.2228 - val_accuracy: 0.5000\n",
            "Epoch 3/6\n",
            "1/1 [==============================] - 13s 13s/step - loss: 13.1234 - accuracy: 0.5000 - val_loss: 4.0912 - val_accuracy: 0.5000\n",
            "Epoch 4/6\n",
            "1/1 [==============================] - 13s 13s/step - loss: 4.0447 - accuracy: 0.5000 - val_loss: 0.9161 - val_accuracy: 0.5000\n",
            "Epoch 5/6\n",
            "1/1 [==============================] - 15s 15s/step - loss: 0.7872 - accuracy: 0.5000 - val_loss: 0.7460 - val_accuracy: 0.5000\n",
            "Epoch 6/6\n",
            "1/1 [==============================] - 14s 14s/step - loss: 0.4742 - accuracy: 0.6250 - val_loss: 0.0768 - val_accuracy: 1.0000\n"
          ]
        }
      ]
    },
    {
      "cell_type": "code",
      "source": [
        "model.save(\"Mango.h5\",\"label.txt\")"
      ],
      "metadata": {
        "colab": {
          "base_uri": "https://localhost:8080/"
        },
        "id": "lo3eNZfyJyuq",
        "outputId": "6a08b642-a444-4c0b-d0b7-c87ef9fb7cba"
      },
      "execution_count": null,
      "outputs": [
        {
          "output_type": "stream",
          "name": "stderr",
          "text": [
            "/usr/local/lib/python3.10/dist-packages/keras/src/engine/training.py:3103: UserWarning: You are saving your model as an HDF5 file via `model.save()`. This file format is considered legacy. We recommend using instead the native Keras format, e.g. `model.save('my_model.keras')`.\n",
            "  saving_api.save_model(\n"
          ]
        }
      ]
    },
    {
      "cell_type": "code",
      "source": [
        "from tensorflow.keras.models import load_model\n",
        "from tensorflow.keras.preprocessing import image\n",
        "import numpy as np\n",
        "\n",
        "#load the saved model\n",
        "model=load_model('/content/Mango.h5')\n",
        "\n",
        "#load and preprocess the test image\n",
        "test_image_path='/content/drive/MyDrive/mangoes/test/predict/download (6).jpeg'\n",
        "img=image.load_img(test_image_path, target_size=(600,600))\n",
        "img_array=image.img_to_array(img)\n",
        "img_array=np.expand_dims(img_array,axis=0) #Add batch dimension\n",
        "img_array /=255. #Normalize the pixel values\n",
        "#Make predictions\n",
        "prediction=model.predict(img_array)\n",
        "#Print the prediction\n",
        "if prediction < 0.5:\n",
        "  print('Prediction: Ripen Mango (Probability:',prediction[0][0],')')\n",
        "else:\n",
        "  print('Prediction: Raw Mango (Probability:',prediction[0][0],')')\n"
      ],
      "metadata": {
        "colab": {
          "base_uri": "https://localhost:8080/"
        },
        "id": "pB7_4oq0J9R-",
        "outputId": "c03dc90a-35d5-413a-d9be-d49f87b86b23"
      },
      "execution_count": null,
      "outputs": [
        {
          "output_type": "stream",
          "name": "stdout",
          "text": [
            "1/1 [==============================] - 0s 318ms/step\n",
            "Prediction: Raw Mango (Probability: 0.98692644 )\n"
          ]
        }
      ]
    }
  ]
}