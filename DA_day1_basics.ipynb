{
  "nbformat": 4,
  "nbformat_minor": 0,
  "metadata": {
    "colab": {
      "provenance": []
    },
    "kernelspec": {
      "name": "python3",
      "display_name": "Python 3"
    },
    "language_info": {
      "name": "python"
    }
  },
  "cells": [
    {
      "cell_type": "code",
      "source": [
        "a=5\n",
        "print(\"Iam\", a,\"years old\")"
      ],
      "metadata": {
        "colab": {
          "base_uri": "https://localhost:8080/"
        },
        "id": "TA8TcH0mrv5M",
        "outputId": "6981741e-142e-4bd6-a7bb-2d902578a25a"
      },
      "execution_count": null,
      "outputs": [
        {
          "output_type": "stream",
          "name": "stdout",
          "text": [
            "Iam 5 years old\n"
          ]
        }
      ]
    },
    {
      "cell_type": "code",
      "execution_count": null,
      "metadata": {
        "colab": {
          "base_uri": "https://localhost:8080/"
        },
        "id": "fH8WKEMSre0b",
        "outputId": "e92cd3d1-4101-4d5a-982d-054bbb11aa65"
      },
      "outputs": [
        {
          "output_type": "stream",
          "name": "stdout",
          "text": [
            "51\n"
          ]
        }
      ],
      "source": [
        "a=6\n",
        "b=45\n",
        "print(a+b)"
      ]
    },
    {
      "cell_type": "code",
      "source": [
        "print(2**4)"
      ],
      "metadata": {
        "colab": {
          "base_uri": "https://localhost:8080/"
        },
        "id": "IOKQ0Ls8sP9o",
        "outputId": "1b9f2516-7ebf-40ff-fdd2-96981fa13b8c"
      },
      "execution_count": null,
      "outputs": [
        {
          "output_type": "stream",
          "name": "stdout",
          "text": [
            "16\n"
          ]
        }
      ]
    },
    {
      "cell_type": "code",
      "source": [
        "print(35//4)"
      ],
      "metadata": {
        "colab": {
          "base_uri": "https://localhost:8080/"
        },
        "id": "kGzu1vJLsbNl",
        "outputId": "31c8a184-32c0-44fc-ab32-8af6f98ab95f"
      },
      "execution_count": null,
      "outputs": [
        {
          "output_type": "stream",
          "name": "stdout",
          "text": [
            "8\n"
          ]
        }
      ]
    },
    {
      "cell_type": "code",
      "source": [
        "a=8\n",
        "b=8\n",
        "print(a==b)\n",
        "print(a>b)\n",
        "print(a<b)\n",
        "print(a!=b)\n",
        "print(a>=b)\n",
        "print(a<=b)"
      ],
      "metadata": {
        "colab": {
          "base_uri": "https://localhost:8080/"
        },
        "id": "8C0EM45vskEb",
        "outputId": "3b31bf3a-969b-46a1-fcdf-d3879c32643c"
      },
      "execution_count": null,
      "outputs": [
        {
          "output_type": "stream",
          "name": "stdout",
          "text": [
            "True\n",
            "False\n",
            "False\n",
            "False\n",
            "True\n",
            "True\n"
          ]
        }
      ]
    },
    {
      "cell_type": "code",
      "source": [
        "a=8\n",
        "b=15\n",
        "print((a>b) and (a<b))\n",
        "print((a>b) or (a<b))"
      ],
      "metadata": {
        "colab": {
          "base_uri": "https://localhost:8080/"
        },
        "id": "KXAXMAcmtsmN",
        "outputId": "e193dee9-c88d-47aa-e003-ab45e2c73e86"
      },
      "execution_count": null,
      "outputs": [
        {
          "output_type": "stream",
          "name": "stdout",
          "text": [
            "False\n",
            "True\n"
          ]
        }
      ]
    },
    {
      "cell_type": "code",
      "source": [
        "print(a)"
      ],
      "metadata": {
        "colab": {
          "base_uri": "https://localhost:8080/"
        },
        "id": "C5x-5EUjuWf4",
        "outputId": "74ee21be-c392-466e-9140-60f64577bce2"
      },
      "execution_count": null,
      "outputs": [
        {
          "output_type": "stream",
          "name": "stdout",
          "text": [
            "8\n"
          ]
        }
      ]
    },
    {
      "cell_type": "code",
      "source": [
        "a=\"Pirates\"\n",
        "print(\"a\" in a)\n",
        "print(\"a\" not in a)"
      ],
      "metadata": {
        "colab": {
          "base_uri": "https://localhost:8080/"
        },
        "id": "4LTVGCglucmu",
        "outputId": "1cd15dec-310a-43a1-9cb0-229ca9257f91"
      },
      "execution_count": null,
      "outputs": [
        {
          "output_type": "stream",
          "name": "stdout",
          "text": [
            "True\n",
            "False\n"
          ]
        }
      ]
    },
    {
      "cell_type": "code",
      "source": [
        "#write a program to get a number from the user and check whether it is negative or positive\n",
        "a=int(input(\"enter a number\"))\n",
        "if (a<0):\n",
        " print(a, \"is negative\")\n",
        "elif (a>0):\n",
        " print(a, \"is positive\")\n",
        "else:\n",
        "  print(\"it is neither positive ir negative\")\n",
        "print(type(a))"
      ],
      "metadata": {
        "colab": {
          "base_uri": "https://localhost:8080/"
        },
        "id": "ARpWBlLFvGEE",
        "outputId": "cce156bf-2f5f-45f6-eaa9-b3da8b85c3cb"
      },
      "execution_count": null,
      "outputs": [
        {
          "output_type": "stream",
          "name": "stdout",
          "text": [
            "enter a number0\n",
            "it is neither positive ir negative\n",
            "<class 'int'>\n"
          ]
        }
      ]
    },
    {
      "cell_type": "code",
      "source": [
        "a=int(input(\"Enter a number\"))\n",
        "i=1\n",
        "for i in range(i,11,1):\n",
        " print(a ,\"*\" ,i,\"=\", a*i )"
      ],
      "metadata": {
        "colab": {
          "base_uri": "https://localhost:8080/"
        },
        "id": "AXb0Jtwq016d",
        "outputId": "e99c2d36-c7d0-4032-b1a1-9fad9fee743e"
      },
      "execution_count": null,
      "outputs": [
        {
          "output_type": "stream",
          "name": "stdout",
          "text": [
            "Enter a number52\n",
            "52 * 1 = 52\n",
            "52 * 2 = 104\n",
            "52 * 3 = 156\n",
            "52 * 4 = 208\n",
            "52 * 5 = 260\n",
            "52 * 6 = 312\n",
            "52 * 7 = 364\n",
            "52 * 8 = 416\n",
            "52 * 9 = 468\n",
            "52 * 10 = 520\n"
          ]
        }
      ]
    },
    {
      "cell_type": "code",
      "source": [
        "a=\"Python is easy\"\n",
        "print(a[::2])"
      ],
      "metadata": {
        "colab": {
          "base_uri": "https://localhost:8080/"
        },
        "id": "4SWLu7-0527b",
        "outputId": "e83893de-4164-4bb2-fb5e-b63415d5e181"
      },
      "execution_count": null,
      "outputs": [
        {
          "output_type": "stream",
          "name": "stdout",
          "text": [
            "Pto ses\n"
          ]
        }
      ]
    },
    {
      "cell_type": "code",
      "source": [
        "a=int(input(\"Enter a number\"))\n",
        "i=1\n",
        "while(i<=10):\n",
        "  print(a*i)\n",
        "  i=i+1"
      ],
      "metadata": {
        "colab": {
          "base_uri": "https://localhost:8080/"
        },
        "id": "rbU3bqVP6103",
        "outputId": "567160a4-f0fe-4449-9678-e517eda6715c"
      },
      "execution_count": null,
      "outputs": [
        {
          "output_type": "stream",
          "name": "stdout",
          "text": [
            "Enter a number0\n",
            "0\n",
            "0\n",
            "0\n",
            "0\n",
            "0\n",
            "0\n",
            "0\n",
            "0\n",
            "0\n",
            "0\n"
          ]
        }
      ]
    },
    {
      "cell_type": "code",
      "source": [
        "l=[23,\"god\",7.3,54]\n",
        "print(l)\n",
        "for i in l:\n",
        "  print(i)"
      ],
      "metadata": {
        "colab": {
          "base_uri": "https://localhost:8080/"
        },
        "id": "IF3ORyWQ8Myq",
        "outputId": "88ea7b75-d76c-4d90-a965-117f5bf3c2fb"
      },
      "execution_count": null,
      "outputs": [
        {
          "output_type": "stream",
          "name": "stdout",
          "text": [
            "[23, 'god', 7.3, 54]\n",
            "23\n",
            "god\n",
            "7.3\n",
            "54\n"
          ]
        }
      ]
    },
    {
      "cell_type": "code",
      "source": [
        "l=[]\n",
        "for i in range(1,11,1):\n",
        " l.append(i)\n",
        "print(l)"
      ],
      "metadata": {
        "colab": {
          "base_uri": "https://localhost:8080/"
        },
        "id": "vtqps69g_ln8",
        "outputId": "7875528e-8f75-4a84-d4f5-997ec854ce73"
      },
      "execution_count": null,
      "outputs": [
        {
          "output_type": "stream",
          "name": "stdout",
          "text": [
            "[1, 2, 3, 4, 5, 6, 7, 8, 9, 10]\n"
          ]
        }
      ]
    },
    {
      "cell_type": "code",
      "source": [
        "l=[]\n",
        "for i in range(1,11,1):\n",
        " l.append(i)\n",
        "l.insert(3,'hi')\n",
        "print(l)"
      ],
      "metadata": {
        "colab": {
          "base_uri": "https://localhost:8080/"
        },
        "id": "UQcXrzYPAOHC",
        "outputId": "976d6ae5-e14f-4c62-af47-6d84e9fb01ea"
      },
      "execution_count": null,
      "outputs": [
        {
          "output_type": "stream",
          "name": "stdout",
          "text": [
            "[1, 2, 3, 'hi', 4, 5, 6, 7, 8, 9, 10]\n"
          ]
        }
      ]
    },
    {
      "cell_type": "code",
      "source": [
        "l1=[15,'hello',7,\"bye\"]\n",
        "print(l)\n",
        "print(l1)\n",
        "l.extend(l1)\n",
        "l1.extend(l)\n",
        "print(l)\n",
        "print(l1)"
      ],
      "metadata": {
        "colab": {
          "base_uri": "https://localhost:8080/"
        },
        "id": "k3zlOZHvBftx",
        "outputId": "a628cf58-fedb-4f5c-a5ed-aab458050a38"
      },
      "execution_count": null,
      "outputs": [
        {
          "output_type": "stream",
          "name": "stdout",
          "text": [
            "[1, 2, 3, 'hi', 4, 5, 6, 7, 8, 9, 10, 15, 'hello', 7, 'bye']\n",
            "[15, 'hello', 7, 'bye']\n",
            "[1, 2, 3, 'hi', 4, 5, 6, 7, 8, 9, 10, 15, 'hello', 7, 'bye', 15, 'hello', 7, 'bye']\n",
            "[15, 'hello', 7, 'bye', 1, 2, 3, 'hi', 4, 5, 6, 7, 8, 9, 10, 15, 'hello', 7, 'bye', 15, 'hello', 7, 'bye']\n"
          ]
        }
      ]
    },
    {
      "cell_type": "code",
      "source": [
        "l1=[123,43,5,87]\n",
        "l2=[i**2 for i in l1]\n",
        "print(l2)"
      ],
      "metadata": {
        "colab": {
          "base_uri": "https://localhost:8080/"
        },
        "id": "Usk5QgrHFz9Y",
        "outputId": "612b3ddd-3d18-44c5-e971-5bbeee310402"
      },
      "execution_count": null,
      "outputs": [
        {
          "output_type": "stream",
          "name": "stdout",
          "text": [
            "[15129, 1849, 25, 7569]\n"
          ]
        }
      ]
    },
    {
      "cell_type": "code",
      "source": [
        "l1=[123,43,5,87]\n",
        "l2=[i**2 for i in l1 if i<50]\n",
        "print(l2)"
      ],
      "metadata": {
        "colab": {
          "base_uri": "https://localhost:8080/"
        },
        "id": "DTiWZYYQGj68",
        "outputId": "a20f96ef-6d47-4d87-88fb-82464eca0be7"
      },
      "execution_count": null,
      "outputs": [
        {
          "output_type": "stream",
          "name": "stdout",
          "text": [
            "[1849, 25]\n"
          ]
        }
      ]
    },
    {
      "cell_type": "code",
      "source": [
        "#The salaries of 5 employees in a company is taken as a list. The  tax is 10% if the salary is less than or = to 50000 else 15%\n",
        "l1=[67000,45000,89000,34000,50000]\n",
        "l2=[i*0.1 for i in l1 if i<=50000]\n",
        "l3=[i*0.15 for i in l1 if i>50000]\n",
        "l2.extend(l3)\n",
        "print(l2)\n"
      ],
      "metadata": {
        "colab": {
          "base_uri": "https://localhost:8080/"
        },
        "id": "bQN8HMXIHPQ6",
        "outputId": "6c8c1045-5459-4883-8b05-94b19d211391"
      },
      "execution_count": null,
      "outputs": [
        {
          "output_type": "stream",
          "name": "stdout",
          "text": [
            "[4500.0, 3400.0, 5000.0, 10050.0, 13350.0]\n"
          ]
        }
      ]
    },
    {
      "cell_type": "code",
      "source": [
        "l1=[67000,45000,89000,34000,50000]\n",
        "l2=[]\n",
        "for i in l1:\n",
        "  if i<=50000:\n",
        "    t=i*0.1\n",
        "    l2.append(t)\n",
        "  else:\n",
        "    t=i*0.15\n",
        "    l2.append(t)\n",
        "print(l2)\n"
      ],
      "metadata": {
        "colab": {
          "base_uri": "https://localhost:8080/"
        },
        "id": "VaUjmYmsKKLT",
        "outputId": "8b6fad24-878d-4e38-cbd9-d9393a69c151"
      },
      "execution_count": null,
      "outputs": [
        {
          "output_type": "stream",
          "name": "stdout",
          "text": [
            "[10050.0, 4500.0, 13350.0, 3400.0, 5000.0]\n"
          ]
        }
      ]
    }
  ]
}