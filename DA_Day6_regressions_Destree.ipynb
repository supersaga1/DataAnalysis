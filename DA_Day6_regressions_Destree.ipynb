{
  "nbformat": 4,
  "nbformat_minor": 0,
  "metadata": {
    "colab": {
      "provenance": []
    },
    "kernelspec": {
      "name": "python3",
      "display_name": "Python 3"
    },
    "language_info": {
      "name": "python"
    }
  },
  "cells": [
    {
      "cell_type": "markdown",
      "source": [
        "Linear Regression\n",
        "\n",
        "• Linear regression is also a type of machine-learning algorithm\n",
        "\n",
        "• Supervised machine-learning algorithm\n",
        "\n",
        "• Learns from the labelled datasets and maps the data points to the most optimized linear functions.\n",
        "\n",
        "• These points can be used for prediction on new datasets.\n",
        "\n",
        "Dependent and Independent Variable\n",
        "\n",
        "• Independent:\n",
        "\n",
        "The independent variable is the cause. Its value is independent of other variables in your study.\n",
        "\n",
        "• Dependent:\n",
        "\n",
        "The dependent variable is the effect. Its value depends on changes in the independent variable."
      ],
      "metadata": {
        "id": "1bEdJX8uuz6P"
      }
    },
    {
      "cell_type": "markdown",
      "source": [
        "Case Study:\n",
        "\n",
        "Consider measurements of a chemical reaction:\n",
        "\n",
        "The mass of the product increases with time.\n",
        "\n",
        "The obsevations are:\n",
        "\n",
        "Time(m):Mass(gms)\n",
        "\n",
        "5 40\n",
        "\n",
        "7:120\n",
        "\n",
        "12:180\n",
        "\n",
        "16:210\n",
        "\n",
        "20:240"
      ],
      "metadata": {
        "id": "uIki7Uahu_OC"
      }
    },
    {
      "cell_type": "code",
      "execution_count": null,
      "metadata": {
        "id": "d-dwe50ie1Ls"
      },
      "outputs": [],
      "source": [
        "from sklearn.linear_model import LinearRegression\n",
        "LR=LinearRegression()"
      ]
    },
    {
      "cell_type": "code",
      "source": [
        "t=[[5],[7],[12],[16],[20]]\n",
        "m=[40,120,180,210,240]\n",
        "LR.fit(t,m)"
      ],
      "metadata": {
        "colab": {
          "base_uri": "https://localhost:8080/",
          "height": 74
        },
        "id": "_-4sp-I3lX44",
        "outputId": "952aed82-b707-4267-b163-0291149deff4"
      },
      "execution_count": null,
      "outputs": [
        {
          "output_type": "execute_result",
          "data": {
            "text/plain": [
              "LinearRegression()"
            ],
            "text/html": [
              "<style>#sk-container-id-3 {color: black;background-color: white;}#sk-container-id-3 pre{padding: 0;}#sk-container-id-3 div.sk-toggleable {background-color: white;}#sk-container-id-3 label.sk-toggleable__label {cursor: pointer;display: block;width: 100%;margin-bottom: 0;padding: 0.3em;box-sizing: border-box;text-align: center;}#sk-container-id-3 label.sk-toggleable__label-arrow:before {content: \"▸\";float: left;margin-right: 0.25em;color: #696969;}#sk-container-id-3 label.sk-toggleable__label-arrow:hover:before {color: black;}#sk-container-id-3 div.sk-estimator:hover label.sk-toggleable__label-arrow:before {color: black;}#sk-container-id-3 div.sk-toggleable__content {max-height: 0;max-width: 0;overflow: hidden;text-align: left;background-color: #f0f8ff;}#sk-container-id-3 div.sk-toggleable__content pre {margin: 0.2em;color: black;border-radius: 0.25em;background-color: #f0f8ff;}#sk-container-id-3 input.sk-toggleable__control:checked~div.sk-toggleable__content {max-height: 200px;max-width: 100%;overflow: auto;}#sk-container-id-3 input.sk-toggleable__control:checked~label.sk-toggleable__label-arrow:before {content: \"▾\";}#sk-container-id-3 div.sk-estimator input.sk-toggleable__control:checked~label.sk-toggleable__label {background-color: #d4ebff;}#sk-container-id-3 div.sk-label input.sk-toggleable__control:checked~label.sk-toggleable__label {background-color: #d4ebff;}#sk-container-id-3 input.sk-hidden--visually {border: 0;clip: rect(1px 1px 1px 1px);clip: rect(1px, 1px, 1px, 1px);height: 1px;margin: -1px;overflow: hidden;padding: 0;position: absolute;width: 1px;}#sk-container-id-3 div.sk-estimator {font-family: monospace;background-color: #f0f8ff;border: 1px dotted black;border-radius: 0.25em;box-sizing: border-box;margin-bottom: 0.5em;}#sk-container-id-3 div.sk-estimator:hover {background-color: #d4ebff;}#sk-container-id-3 div.sk-parallel-item::after {content: \"\";width: 100%;border-bottom: 1px solid gray;flex-grow: 1;}#sk-container-id-3 div.sk-label:hover label.sk-toggleable__label {background-color: #d4ebff;}#sk-container-id-3 div.sk-serial::before {content: \"\";position: absolute;border-left: 1px solid gray;box-sizing: border-box;top: 0;bottom: 0;left: 50%;z-index: 0;}#sk-container-id-3 div.sk-serial {display: flex;flex-direction: column;align-items: center;background-color: white;padding-right: 0.2em;padding-left: 0.2em;position: relative;}#sk-container-id-3 div.sk-item {position: relative;z-index: 1;}#sk-container-id-3 div.sk-parallel {display: flex;align-items: stretch;justify-content: center;background-color: white;position: relative;}#sk-container-id-3 div.sk-item::before, #sk-container-id-3 div.sk-parallel-item::before {content: \"\";position: absolute;border-left: 1px solid gray;box-sizing: border-box;top: 0;bottom: 0;left: 50%;z-index: -1;}#sk-container-id-3 div.sk-parallel-item {display: flex;flex-direction: column;z-index: 1;position: relative;background-color: white;}#sk-container-id-3 div.sk-parallel-item:first-child::after {align-self: flex-end;width: 50%;}#sk-container-id-3 div.sk-parallel-item:last-child::after {align-self: flex-start;width: 50%;}#sk-container-id-3 div.sk-parallel-item:only-child::after {width: 0;}#sk-container-id-3 div.sk-dashed-wrapped {border: 1px dashed gray;margin: 0 0.4em 0.5em 0.4em;box-sizing: border-box;padding-bottom: 0.4em;background-color: white;}#sk-container-id-3 div.sk-label label {font-family: monospace;font-weight: bold;display: inline-block;line-height: 1.2em;}#sk-container-id-3 div.sk-label-container {text-align: center;}#sk-container-id-3 div.sk-container {/* jupyter's `normalize.less` sets `[hidden] { display: none; }` but bootstrap.min.css set `[hidden] { display: none !important; }` so we also need the `!important` here to be able to override the default hidden behavior on the sphinx rendered scikit-learn.org. See: https://github.com/scikit-learn/scikit-learn/issues/21755 */display: inline-block !important;position: relative;}#sk-container-id-3 div.sk-text-repr-fallback {display: none;}</style><div id=\"sk-container-id-3\" class=\"sk-top-container\"><div class=\"sk-text-repr-fallback\"><pre>LinearRegression()</pre><b>In a Jupyter environment, please rerun this cell to show the HTML representation or trust the notebook. <br />On GitHub, the HTML representation is unable to render, please try loading this page with nbviewer.org.</b></div><div class=\"sk-container\" hidden><div class=\"sk-item\"><div class=\"sk-estimator sk-toggleable\"><input class=\"sk-toggleable__control sk-hidden--visually\" id=\"sk-estimator-id-3\" type=\"checkbox\" checked><label for=\"sk-estimator-id-3\" class=\"sk-toggleable__label sk-toggleable__label-arrow\">LinearRegression</label><div class=\"sk-toggleable__content\"><pre>LinearRegression()</pre></div></div></div></div></div>"
            ]
          },
          "metadata": {},
          "execution_count": 12
        }
      ]
    },
    {
      "cell_type": "code",
      "source": [
        "LR.predict([[25]])"
      ],
      "metadata": {
        "colab": {
          "base_uri": "https://localhost:8080/"
        },
        "id": "wcqqAJ5plZ7B",
        "outputId": "9372df81-6833-4b9c-9bdc-a77b0fe248a0"
      },
      "execution_count": null,
      "outputs": [
        {
          "output_type": "execute_result",
          "data": {
            "text/plain": [
              "array([316.7012987])"
            ]
          },
          "metadata": {},
          "execution_count": 14
        }
      ]
    },
    {
      "cell_type": "markdown",
      "source": [
        "Logistic regression\n",
        "\n",
        "*  used for binary classification\n",
        "\n",
        "*  Supervised learning algorithm\n",
        "\n",
        "*  Example Segregating Food: Y=0, Class A - Healthy food Y=1, Class B -\n",
        " Unhealthy food\n",
        "\n",
        "\n",
        "* Case Study:\n",
        "\n",
        "Let us take data from Football matches:\n",
        "\n",
        "Based on the distance between player and goal post, we are going to predict whether it is a goal are not!\n",
        "\n",
        "Let us plot some trails now\n",
        "\n",
        "• When distance = 2m, goal is scored, Y=1\n",
        "\n",
        "• When distance = 4m, goal is scored, Y=1\n",
        "\n",
        "• For 5,7,10,20,22 m, it is always a goal, Y=1\n",
        "\n",
        "• When distance = 23m, for 15 trails, few are goals Y=1 few are failures Y=0\n",
        "\n",
        "\n",
        "Sigmoid Function:\n",
        "\n",
        "• Sigmoid function is a S-shaped function with peak at 1 and 0 at valley.\n",
        "\n",
        "When model is very confident, Narrow DecBou\n",
        "\n",
        "When model is not confident, Wide DesBou\n",
        "\n",
        "after plotting distance vs goal\n",
        "\n",
        "between 20 and 30 meters the probality of goal gradually reduces from 1 to 0\n",
        "\n",
        "after plotting distance against the goal between 20m and 30m the probability goes to gradually reduces to 1 to 0\n",
        "\n",
        "but logistic regression accepts only two class so as a threshold value(0.5) is set\n",
        "\n",
        "prediction is:\n",
        "\n",
        "p>0.5,its a GOAL!-class A(y=1)\n",
        "\n",
        "p=<0.5,its a miss!-class B(y=0)\n",
        "\n"
      ],
      "metadata": {
        "id": "sYgCDyn5vb0p"
      }
    },
    {
      "cell_type": "code",
      "source": [
        "from logging import LogRecord\n",
        "import numpy as np\n",
        "from sklearn.linear_model import LogisticRegression as logr\n",
        "import matplotlib.pyplot as plt\n"
      ],
      "metadata": {
        "id": "80zeYpeAzWgp"
      },
      "execution_count": null,
      "outputs": []
    },
    {
      "cell_type": "code",
      "source": [
        "# Distance and corresponding probability data\n",
        "\n",
        "distances = np.array([1,2,5,10,15,20, 21, 22, 23, 24, 25, 26, 27, 28, 29, 30,35,40,41,47,50]).reshape(-1, 1)\n",
        "probabilities = np.array([1,1,1,1,1,1,0.9, 0.85, 0.73, 0.67, 0.5, 0.47, 0.39, 0.31, 0.25, 0.15,0,0,0,0,0])\n",
        "\n",
        "#Convert probabilities to binary labels\n",
        "\n",
        "threshold=0.5\n",
        "\n",
        "binary_labels = (probabilities > threshold).astype(int)\n",
        "#Create and fit logistic regression model\n",
        "logr=LogisticRegression()\n",
        "logr.fit(distances,binary_labels)"
      ],
      "metadata": {
        "colab": {
          "base_uri": "https://localhost:8080/",
          "height": 74
        },
        "id": "JQgiErXNzeWU",
        "outputId": "0d19859e-6a9d-4184-8f27-28f0eb579420"
      },
      "execution_count": null,
      "outputs": [
        {
          "output_type": "execute_result",
          "data": {
            "text/plain": [
              "LogisticRegression()"
            ],
            "text/html": [
              "<style>#sk-container-id-2 {color: black;background-color: white;}#sk-container-id-2 pre{padding: 0;}#sk-container-id-2 div.sk-toggleable {background-color: white;}#sk-container-id-2 label.sk-toggleable__label {cursor: pointer;display: block;width: 100%;margin-bottom: 0;padding: 0.3em;box-sizing: border-box;text-align: center;}#sk-container-id-2 label.sk-toggleable__label-arrow:before {content: \"▸\";float: left;margin-right: 0.25em;color: #696969;}#sk-container-id-2 label.sk-toggleable__label-arrow:hover:before {color: black;}#sk-container-id-2 div.sk-estimator:hover label.sk-toggleable__label-arrow:before {color: black;}#sk-container-id-2 div.sk-toggleable__content {max-height: 0;max-width: 0;overflow: hidden;text-align: left;background-color: #f0f8ff;}#sk-container-id-2 div.sk-toggleable__content pre {margin: 0.2em;color: black;border-radius: 0.25em;background-color: #f0f8ff;}#sk-container-id-2 input.sk-toggleable__control:checked~div.sk-toggleable__content {max-height: 200px;max-width: 100%;overflow: auto;}#sk-container-id-2 input.sk-toggleable__control:checked~label.sk-toggleable__label-arrow:before {content: \"▾\";}#sk-container-id-2 div.sk-estimator input.sk-toggleable__control:checked~label.sk-toggleable__label {background-color: #d4ebff;}#sk-container-id-2 div.sk-label input.sk-toggleable__control:checked~label.sk-toggleable__label {background-color: #d4ebff;}#sk-container-id-2 input.sk-hidden--visually {border: 0;clip: rect(1px 1px 1px 1px);clip: rect(1px, 1px, 1px, 1px);height: 1px;margin: -1px;overflow: hidden;padding: 0;position: absolute;width: 1px;}#sk-container-id-2 div.sk-estimator {font-family: monospace;background-color: #f0f8ff;border: 1px dotted black;border-radius: 0.25em;box-sizing: border-box;margin-bottom: 0.5em;}#sk-container-id-2 div.sk-estimator:hover {background-color: #d4ebff;}#sk-container-id-2 div.sk-parallel-item::after {content: \"\";width: 100%;border-bottom: 1px solid gray;flex-grow: 1;}#sk-container-id-2 div.sk-label:hover label.sk-toggleable__label {background-color: #d4ebff;}#sk-container-id-2 div.sk-serial::before {content: \"\";position: absolute;border-left: 1px solid gray;box-sizing: border-box;top: 0;bottom: 0;left: 50%;z-index: 0;}#sk-container-id-2 div.sk-serial {display: flex;flex-direction: column;align-items: center;background-color: white;padding-right: 0.2em;padding-left: 0.2em;position: relative;}#sk-container-id-2 div.sk-item {position: relative;z-index: 1;}#sk-container-id-2 div.sk-parallel {display: flex;align-items: stretch;justify-content: center;background-color: white;position: relative;}#sk-container-id-2 div.sk-item::before, #sk-container-id-2 div.sk-parallel-item::before {content: \"\";position: absolute;border-left: 1px solid gray;box-sizing: border-box;top: 0;bottom: 0;left: 50%;z-index: -1;}#sk-container-id-2 div.sk-parallel-item {display: flex;flex-direction: column;z-index: 1;position: relative;background-color: white;}#sk-container-id-2 div.sk-parallel-item:first-child::after {align-self: flex-end;width: 50%;}#sk-container-id-2 div.sk-parallel-item:last-child::after {align-self: flex-start;width: 50%;}#sk-container-id-2 div.sk-parallel-item:only-child::after {width: 0;}#sk-container-id-2 div.sk-dashed-wrapped {border: 1px dashed gray;margin: 0 0.4em 0.5em 0.4em;box-sizing: border-box;padding-bottom: 0.4em;background-color: white;}#sk-container-id-2 div.sk-label label {font-family: monospace;font-weight: bold;display: inline-block;line-height: 1.2em;}#sk-container-id-2 div.sk-label-container {text-align: center;}#sk-container-id-2 div.sk-container {/* jupyter's `normalize.less` sets `[hidden] { display: none; }` but bootstrap.min.css set `[hidden] { display: none !important; }` so we also need the `!important` here to be able to override the default hidden behavior on the sphinx rendered scikit-learn.org. See: https://github.com/scikit-learn/scikit-learn/issues/21755 */display: inline-block !important;position: relative;}#sk-container-id-2 div.sk-text-repr-fallback {display: none;}</style><div id=\"sk-container-id-2\" class=\"sk-top-container\"><div class=\"sk-text-repr-fallback\"><pre>LogisticRegression()</pre><b>In a Jupyter environment, please rerun this cell to show the HTML representation or trust the notebook. <br />On GitHub, the HTML representation is unable to render, please try loading this page with nbviewer.org.</b></div><div class=\"sk-container\" hidden><div class=\"sk-item\"><div class=\"sk-estimator sk-toggleable\"><input class=\"sk-toggleable__control sk-hidden--visually\" id=\"sk-estimator-id-2\" type=\"checkbox\" checked><label for=\"sk-estimator-id-2\" class=\"sk-toggleable__label sk-toggleable__label-arrow\">LogisticRegression</label><div class=\"sk-toggleable__content\"><pre>LogisticRegression()</pre></div></div></div></div></div>"
            ]
          },
          "metadata": {},
          "execution_count": 13
        }
      ]
    },
    {
      "cell_type": "code",
      "source": [
        "p=logr.predict([[32]])#distance\n",
        "print(p)"
      ],
      "metadata": {
        "id": "NX-6wC-Z0lva",
        "colab": {
          "base_uri": "https://localhost:8080/"
        },
        "outputId": "2b787afe-9d09-4aae-ac68-04cafc3376db"
      },
      "execution_count": null,
      "outputs": [
        {
          "output_type": "stream",
          "name": "stdout",
          "text": [
            "[0]\n"
          ]
        }
      ]
    },
    {
      "cell_type": "code",
      "source": [
        "if p==[1]:\n",
        "  print(\"goal\")\n",
        "else:\n",
        "  print(\"no goal\")"
      ],
      "metadata": {
        "colab": {
          "base_uri": "https://localhost:8080/"
        },
        "id": "bmq02sKg9GB1",
        "outputId": "a3905fff-b57c-45b2-8f25-34ad74297d0c"
      },
      "execution_count": null,
      "outputs": [
        {
          "output_type": "stream",
          "name": "stdout",
          "text": [
            "no goal\n"
          ]
        }
      ]
    },
    {
      "cell_type": "code",
      "source": [
        "#Predict 100 distances between 1 and 50\n",
        "\n",
        "#Generate distances for prediction\n",
        "dist= np.linspace(1, 50, 100).reshape(-1, 1)\n",
        "print(dist) #distances\n",
        "\n",
        "#Make predictions using the model\n",
        "prob= logr.predict_proba(dist)[:, 1] #predictions\n",
        "print(prob)\n",
        "\n",
        "#Plot the data and the logistic regression curve\n",
        "plt.scatter(distances, binary_labels, color='black',label='Data')"
      ],
      "metadata": {
        "id": "rCkItIlL92pS",
        "outputId": "da16891b-08d1-4bed-9c75-0a2d183df785",
        "colab": {
          "base_uri": "https://localhost:8080/",
          "height": 1000
        }
      },
      "execution_count": null,
      "outputs": [
        {
          "output_type": "stream",
          "name": "stdout",
          "text": [
            "[[ 1.        ]\n",
            " [ 1.49494949]\n",
            " [ 1.98989899]\n",
            " [ 2.48484848]\n",
            " [ 2.97979798]\n",
            " [ 3.47474747]\n",
            " [ 3.96969697]\n",
            " [ 4.46464646]\n",
            " [ 4.95959596]\n",
            " [ 5.45454545]\n",
            " [ 5.94949495]\n",
            " [ 6.44444444]\n",
            " [ 6.93939394]\n",
            " [ 7.43434343]\n",
            " [ 7.92929293]\n",
            " [ 8.42424242]\n",
            " [ 8.91919192]\n",
            " [ 9.41414141]\n",
            " [ 9.90909091]\n",
            " [10.4040404 ]\n",
            " [10.8989899 ]\n",
            " [11.39393939]\n",
            " [11.88888889]\n",
            " [12.38383838]\n",
            " [12.87878788]\n",
            " [13.37373737]\n",
            " [13.86868687]\n",
            " [14.36363636]\n",
            " [14.85858586]\n",
            " [15.35353535]\n",
            " [15.84848485]\n",
            " [16.34343434]\n",
            " [16.83838384]\n",
            " [17.33333333]\n",
            " [17.82828283]\n",
            " [18.32323232]\n",
            " [18.81818182]\n",
            " [19.31313131]\n",
            " [19.80808081]\n",
            " [20.3030303 ]\n",
            " [20.7979798 ]\n",
            " [21.29292929]\n",
            " [21.78787879]\n",
            " [22.28282828]\n",
            " [22.77777778]\n",
            " [23.27272727]\n",
            " [23.76767677]\n",
            " [24.26262626]\n",
            " [24.75757576]\n",
            " [25.25252525]\n",
            " [25.74747475]\n",
            " [26.24242424]\n",
            " [26.73737374]\n",
            " [27.23232323]\n",
            " [27.72727273]\n",
            " [28.22222222]\n",
            " [28.71717172]\n",
            " [29.21212121]\n",
            " [29.70707071]\n",
            " [30.2020202 ]\n",
            " [30.6969697 ]\n",
            " [31.19191919]\n",
            " [31.68686869]\n",
            " [32.18181818]\n",
            " [32.67676768]\n",
            " [33.17171717]\n",
            " [33.66666667]\n",
            " [34.16161616]\n",
            " [34.65656566]\n",
            " [35.15151515]\n",
            " [35.64646465]\n",
            " [36.14141414]\n",
            " [36.63636364]\n",
            " [37.13131313]\n",
            " [37.62626263]\n",
            " [38.12121212]\n",
            " [38.61616162]\n",
            " [39.11111111]\n",
            " [39.60606061]\n",
            " [40.1010101 ]\n",
            " [40.5959596 ]\n",
            " [41.09090909]\n",
            " [41.58585859]\n",
            " [42.08080808]\n",
            " [42.57575758]\n",
            " [43.07070707]\n",
            " [43.56565657]\n",
            " [44.06060606]\n",
            " [44.55555556]\n",
            " [45.05050505]\n",
            " [45.54545455]\n",
            " [46.04040404]\n",
            " [46.53535354]\n",
            " [47.03030303]\n",
            " [47.52525253]\n",
            " [48.02020202]\n",
            " [48.51515152]\n",
            " [49.01010101]\n",
            " [49.50505051]\n",
            " [50.        ]]\n",
            "[1.00000000e+00 1.00000000e+00 1.00000000e+00 1.00000000e+00\n",
            " 1.00000000e+00 1.00000000e+00 1.00000000e+00 1.00000000e+00\n",
            " 1.00000000e+00 1.00000000e+00 1.00000000e+00 1.00000000e+00\n",
            " 9.99999999e-01 9.99999998e-01 9.99999997e-01 9.99999995e-01\n",
            " 9.99999991e-01 9.99999984e-01 9.99999971e-01 9.99999947e-01\n",
            " 9.99999905e-01 9.99999829e-01 9.99999691e-01 9.99999444e-01\n",
            " 9.99998999e-01 9.99998197e-01 9.99996752e-01 9.99994151e-01\n",
            " 9.99989464e-01 9.99981024e-01 9.99965821e-01 9.99938440e-01\n",
            " 9.99889126e-01 9.99800316e-01 9.99640393e-01 9.99352476e-01\n",
            " 9.98834306e-01 9.97902352e-01 9.96228129e-01 9.93226705e-01\n",
            " 9.87866023e-01 9.78355119e-01 9.61678531e-01 9.33032722e-01\n",
            " 8.85522784e-01 8.11129877e-01 7.04524003e-01 5.69669049e-01\n",
            " 4.23619405e-01 2.89797741e-01 1.84703449e-01 1.11725670e-01\n",
            " 6.52734947e-02 3.73232326e-02 2.10715348e-02 1.18095223e-02\n",
            " 6.59122462e-03 3.67018284e-03 2.04100338e-03 1.13418691e-03\n",
            " 6.30014050e-04 3.49879429e-04 1.94281951e-04 1.07873915e-04\n",
            " 5.98940572e-05 3.32538365e-05 1.84626754e-05 1.02504906e-05\n",
            " 5.69105898e-06 3.15966209e-06 1.75423472e-06 9.73945141e-07\n",
            " 5.40730836e-07 3.00211755e-07 1.66676436e-07 9.25381239e-08\n",
            " 5.13768131e-08 2.85242100e-08 1.58365320e-08 8.79238183e-09\n",
            " 4.88149664e-09 2.71018819e-09 1.50468608e-09 8.35395932e-10\n",
            " 4.63808613e-10 2.57504761e-10 1.42965654e-10 7.93739822e-11\n",
            " 4.40681301e-11 2.44664566e-11 1.35836827e-11 7.54160848e-12\n",
            " 4.18707206e-12 2.32464633e-12 1.29063471e-12 7.16555436e-13\n",
            " 3.97828826e-13 2.20873036e-13 1.22627861e-13 6.80825177e-14]\n"
          ]
        },
        {
          "output_type": "execute_result",
          "data": {
            "text/plain": [
              "<matplotlib.collections.PathCollection at 0x7c6045057340>"
            ]
          },
          "metadata": {},
          "execution_count": 14
        },
        {
          "output_type": "display_data",
          "data": {
            "text/plain": [
              "<Figure size 640x480 with 1 Axes>"
            ],
            "image/png": "[encoded data removed]"
          },
          "metadata": {}
        }
      ]
    },
    {
      "cell_type": "code",
      "source": [
        "#Plot the actual data - train\n",
        "plt.scatter(distances, binary_labels, color='black',label='Data')\n",
        "#plotting test data with predictions - valid/test\n",
        "\n",
        "plt.plot(dist, prob, color='blue', label='Logistic Regression')\n",
        "\n",
        "plt.title('Distance vs Probability of Scoring a Goal')\n",
        "\n",
        "plt.xlabel('Distance')\n",
        "\n",
        "plt.ylabel('Probability')\n",
        "\n",
        "plt.legend()\n",
        "\n",
        "plt.grid(True)\n",
        "\n",
        "plt.show()"
      ],
      "metadata": {
        "colab": {
          "base_uri": "https://localhost:8080/",
          "height": 472
        },
        "id": "rUMisq8BP3T_",
        "outputId": "8678631e-0932-43f9-8009-3ac2245935b4"
      },
      "execution_count": null,
      "outputs": [
        {
          "output_type": "display_data",
          "data": {
            "text/plain": [
              "<Figure size 640x480 with 1 Axes>"
            ],
            "image/png": "[encoded data removed]"
          },
          "metadata": {}
        }
      ]
    },
    {
      "cell_type": "markdown",
      "source": [
        "Decision Trees\n",
        "\n",
        "• Decision trees in machine learning provide an effective method for making decisions because they lay out the problem and all the possible outcomes.\n",
        "\n",
        "Have Nodes and Leaves\n",
        "\n",
        "Node: Condition having True and False Branches.\n",
        "\n",
        "Leaf: Result-showing the dataset that is true and false to the condition\n",
        "\n",
        "Case Study:\n",
        "\n",
        "• Taking a dataset of 26 states with features like Literacy, Cleanliness,\n",
        "\n",
        "Crime Rate and targetting (predicting) Good or Bad state!\n",
        "\n",
        "• Good is called Target variable here, it has values of Os and 1\n",
        "\n",
        "Now let us create a decision tree\n",
        "\n",
        "* Decision tree recurrently (continously) splits the data until it gets pure leaves\n",
        "\n",
        "* Let us view a DT based on Crimr Rate\n",
        "\n"
      ],
      "metadata": {
        "id": "juKuPLuyQNU5"
      }
    },
    {
      "cell_type": "code",
      "source": [],
      "metadata": {
        "id": "qp-UNM9FW7z6"
      },
      "execution_count": null,
      "outputs": []
    },
    {
      "cell_type": "markdown",
      "source": [
        "#BUILDING DECISION TREE\n",
        "\n",
        "*   Node1:CR>60\n",
        "*   True=[c,q,x=0(pure leaf)]\n",
        "-False=[A,E,F,G,I,K,L,P,R,U,V=0][B,D,H,IJ,M,O,S,T,W,Y,Z=1](ITS MIX A 0S AND 1S\n",
        "\n",
        "reason:mixed leaves are targeted variable with both zeros and ones hence this splitted once again\n",
        "\n",
        "-NODE2:CR>50\n",
        "\n",
        "-True=[A,E,F,G,I,K,L,N,P,R,U,V=0(all are the pure leaf)]\n",
        "-False=[B,D,H,J,M,O,S,T,W,Y,Z=1(all are 1s its a pure leaf)]\n",
        "\n",
        "-RESULTS:CR>60\n",
        "\n",
        "-GOOD=0\n",
        "-CR<60\n",
        "-CANNOT BE DETERMINED\n",
        "-CR<50\n",
        "-GOOD=1\n",
        "-PREDICT:crime rate =63\n",
        "-good=0\n",
        "-crime rate=43\n",
        "-good=1"
      ],
      "metadata": {
        "id": "cv589lisUthj"
      }
    },
    {
      "cell_type": "code",
      "source": [
        "import pandas as pd\n",
        "txt=pd.read_csv(\"/content/demodt.txt\")\n",
        "txt"
      ],
      "metadata": {
        "colab": {
          "base_uri": "https://localhost:8080/",
          "height": 864
        },
        "id": "e13w4ZawQXNK",
        "outputId": "8b0352c8-aa89-4f70-c37b-db850af97c20"
      },
      "execution_count": null,
      "outputs": [
        {
          "output_type": "execute_result",
          "data": {
            "text/plain": [
              "   State  Literacy  Cleanliness  Crime_Rate  Good\n",
              "0      A        92           90          54     0\n",
              "1      B        56           67          50     1\n",
              "2      C        78           85          62     0\n",
              "3      D        63           72          48     1\n",
              "4      E        85           79          55     0\n",
              "5      F        71           68          58     0\n",
              "6      G        80           83          51     0\n",
              "7      H        67           74          47     1\n",
              "8      I        89           88          53     0\n",
              "9      J        58           65          49     1\n",
              "10     K        82           81          60     0\n",
              "11     L        75           78          57     0\n",
              "12     M        69           70          46     1\n",
              "13     N        87           86          52     0\n",
              "14     O        61           63          45     1\n",
              "15     P        93           91          56     0\n",
              "16     Q        55           66          61     0\n",
              "17     R        76           77          59     0\n",
              "18     S        84           82          44     1\n",
              "19     T        70           69          50     1\n",
              "20     U        94           92          57     0\n",
              "21     V        59           64          52     0\n",
              "22     W        83           80          43     1\n",
              "23     X        74           76          63     0\n",
              "24     Y        68           73          41     1\n",
              "25     Z        88           84          47     1"
            ],
            "text/html": [
              "\n",
              "  <div id=\"df-f66ddcae-a86c-4b8e-866d-6349a52968a7\" class=\"colab-df-container\">\n",
              "    <div>\n",
              "<style scoped>\n",
              "    .dataframe tbody tr th:only-of-type {\n",
              "        vertical-align: middle;\n",
              "    }\n",
              "\n",
              "    .dataframe tbody tr th {\n",
              "        vertical-align: top;\n",
              "    }\n",
              "\n",
              "    .dataframe thead th {\n",
              "        text-align: right;\n",
              "    }\n",
              "</style>\n",
              "<table border=\"1\" class=\"dataframe\">\n",
              "  <thead>\n",
              "    <tr style=\"text-align: right;\">\n",
              "      <th></th>\n",
              "      <th>State</th>\n",
              "      <th>Literacy</th>\n",
              "      <th>Cleanliness</th>\n",
              "      <th>Crime_Rate</th>\n",
              "      <th>Good</th>\n",
              "    </tr>\n",
              "  </thead>\n",
              "  <tbody>\n",
              "    <tr>\n",
              "      <th>0</th>\n",
              "      <td>A</td>\n",
              "      <td>92</td>\n",
              "      <td>90</td>\n",
              "      <td>54</td>\n",
              "      <td>0</td>\n",
              "    </tr>\n",
              "    <tr>\n",
              "      <th>1</th>\n",
              "      <td>B</td>\n",
              "      <td>56</td>\n",
              "      <td>67</td>\n",
              "      <td>50</td>\n",
              "      <td>1</td>\n",
              "    </tr>\n",
              "    <tr>\n",
              "      <th>2</th>\n",
              "      <td>C</td>\n",
              "      <td>78</td>\n",
              "      <td>85</td>\n",
              "      <td>62</td>\n",
              "      <td>0</td>\n",
              "    </tr>\n",
              "    <tr>\n",
              "      <th>3</th>\n",
              "      <td>D</td>\n",
              "      <td>63</td>\n",
              "      <td>72</td>\n",
              "      <td>48</td>\n",
              "      <td>1</td>\n",
              "    </tr>\n",
              "    <tr>\n",
              "      <th>4</th>\n",
              "      <td>E</td>\n",
              "      <td>85</td>\n",
              "      <td>79</td>\n",
              "      <td>55</td>\n",
              "      <td>0</td>\n",
              "    </tr>\n",
              "    <tr>\n",
              "      <th>5</th>\n",
              "      <td>F</td>\n",
              "      <td>71</td>\n",
              "      <td>68</td>\n",
              "      <td>58</td>\n",
              "      <td>0</td>\n",
              "    </tr>\n",
              "    <tr>\n",
              "      <th>6</th>\n",
              "      <td>G</td>\n",
              "      <td>80</td>\n",
              "      <td>83</td>\n",
              "      <td>51</td>\n",
              "      <td>0</td>\n",
              "    </tr>\n",
              "    <tr>\n",
              "      <th>7</th>\n",
              "      <td>H</td>\n",
              "      <td>67</td>\n",
              "      <td>74</td>\n",
              "      <td>47</td>\n",
              "      <td>1</td>\n",
              "    </tr>\n",
              "    <tr>\n",
              "      <th>8</th>\n",
              "      <td>I</td>\n",
              "      <td>89</td>\n",
              "      <td>88</td>\n",
              "      <td>53</td>\n",
              "      <td>0</td>\n",
              "    </tr>\n",
              "    <tr>\n",
              "      <th>9</th>\n",
              "      <td>J</td>\n",
              "      <td>58</td>\n",
              "      <td>65</td>\n",
              "      <td>49</td>\n",
              "      <td>1</td>\n",
              "    </tr>\n",
              "    <tr>\n",
              "      <th>10</th>\n",
              "      <td>K</td>\n",
              "      <td>82</td>\n",
              "      <td>81</td>\n",
              "      <td>60</td>\n",
              "      <td>0</td>\n",
              "    </tr>\n",
              "    <tr>\n",
              "      <th>11</th>\n",
              "      <td>L</td>\n",
              "      <td>75</td>\n",
              "      <td>78</td>\n",
              "      <td>57</td>\n",
              "      <td>0</td>\n",
              "    </tr>\n",
              "    <tr>\n",
              "      <th>12</th>\n",
              "      <td>M</td>\n",
              "      <td>69</td>\n",
              "      <td>70</td>\n",
              "      <td>46</td>\n",
              "      <td>1</td>\n",
              "    </tr>\n",
              "    <tr>\n",
              "      <th>13</th>\n",
              "      <td>N</td>\n",
              "      <td>87</td>\n",
              "      <td>86</td>\n",
              "      <td>52</td>\n",
              "      <td>0</td>\n",
              "    </tr>\n",
              "    <tr>\n",
              "      <th>14</th>\n",
              "      <td>O</td>\n",
              "      <td>61</td>\n",
              "      <td>63</td>\n",
              "      <td>45</td>\n",
              "      <td>1</td>\n",
              "    </tr>\n",
              "    <tr>\n",
              "      <th>15</th>\n",
              "      <td>P</td>\n",
              "      <td>93</td>\n",
              "      <td>91</td>\n",
              "      <td>56</td>\n",
              "      <td>0</td>\n",
              "    </tr>\n",
              "    <tr>\n",
              "      <th>16</th>\n",
              "      <td>Q</td>\n",
              "      <td>55</td>\n",
              "      <td>66</td>\n",
              "      <td>61</td>\n",
              "      <td>0</td>\n",
              "    </tr>\n",
              "    <tr>\n",
              "      <th>17</th>\n",
              "      <td>R</td>\n",
              "      <td>76</td>\n",
              "      <td>77</td>\n",
              "      <td>59</td>\n",
              "      <td>0</td>\n",
              "    </tr>\n",
              "    <tr>\n",
              "      <th>18</th>\n",
              "      <td>S</td>\n",
              "      <td>84</td>\n",
              "      <td>82</td>\n",
              "      <td>44</td>\n",
              "      <td>1</td>\n",
              "    </tr>\n",
              "    <tr>\n",
              "      <th>19</th>\n",
              "      <td>T</td>\n",
              "      <td>70</td>\n",
              "      <td>69</td>\n",
              "      <td>50</td>\n",
              "      <td>1</td>\n",
              "    </tr>\n",
              "    <tr>\n",
              "      <th>20</th>\n",
              "      <td>U</td>\n",
              "      <td>94</td>\n",
              "      <td>92</td>\n",
              "      <td>57</td>\n",
              "      <td>0</td>\n",
              "    </tr>\n",
              "    <tr>\n",
              "      <th>21</th>\n",
              "      <td>V</td>\n",
              "      <td>59</td>\n",
              "      <td>64</td>\n",
              "      <td>52</td>\n",
              "      <td>0</td>\n",
              "    </tr>\n",
              "    <tr>\n",
              "      <th>22</th>\n",
              "      <td>W</td>\n",
              "      <td>83</td>\n",
              "      <td>80</td>\n",
              "      <td>43</td>\n",
              "      <td>1</td>\n",
              "    </tr>\n",
              "    <tr>\n",
              "      <th>23</th>\n",
              "      <td>X</td>\n",
              "      <td>74</td>\n",
              "      <td>76</td>\n",
              "      <td>63</td>\n",
              "      <td>0</td>\n",
              "    </tr>\n",
              "    <tr>\n",
              "      <th>24</th>\n",
              "      <td>Y</td>\n",
              "      <td>68</td>\n",
              "      <td>73</td>\n",
              "      <td>41</td>\n",
              "      <td>1</td>\n",
              "    </tr>\n",
              "    <tr>\n",
              "      <th>25</th>\n",
              "      <td>Z</td>\n",
              "      <td>88</td>\n",
              "      <td>84</td>\n",
              "      <td>47</td>\n",
              "      <td>1</td>\n",
              "    </tr>\n",
              "  </tbody>\n",
              "</table>\n",
              "</div>\n",
              "    <div class=\"colab-df-buttons\">\n",
              "\n",
              "  <div class=\"colab-df-container\">\n",
              "    <button class=\"colab-df-convert\" onclick=\"convertToInteractive('df-f66ddcae-a86c-4b8e-866d-6349a52968a7')\"\n",
              "            title=\"Convert this dataframe to an interactive table.\"\n",
              "            style=\"display:none;\">\n",
              "\n",
              "  <svg xmlns=\"http://www.w3.org/2000/svg\" height=\"24px\" viewBox=\"0 -960 960 960\">\n",
              "    <path d=\"M120-120v-720h720v720H120Zm60-500h600v-160H180v160Zm220 220h160v-160H400v160Zm0 220h160v-160H400v160ZM180-400h160v-160H180v160Zm440 0h160v-160H620v160ZM180-180h160v-160H180v160Zm440 0h160v-160H620v160Z\"/>\n",
              "  </svg>\n",
              "    </button>\n",
              "\n",
              "  <style>\n",
              "    .colab-df-container {\n",
              "      display:flex;\n",
              "      gap: 12px;\n",
              "    }\n",
              "\n",
              "    .colab-df-convert {\n",
              "      background-color: #E8F0FE;\n",
              "      border: none;\n",
              "      border-radius: 50%;\n",
              "      cursor: pointer;\n",
              "      display: none;\n",
              "      fill: #1967D2;\n",
              "      height: 32px;\n",
              "      padding: 0 0 0 0;\n",
              "      width: 32px;\n",
              "    }\n",
              "\n",
              "    .colab-df-convert:hover {\n",
              "      background-color: #E2EBFA;\n",
              "      box-shadow: 0px 1px 2px rgba(60, 64, 67, 0.3), 0px 1px 3px 1px rgba(60, 64, 67, 0.15);\n",
              "      fill: #174EA6;\n",
              "    }\n",
              "\n",
              "    .colab-df-buttons div {\n",
              "      margin-bottom: 4px;\n",
              "    }\n",
              "\n",
              "    [theme=dark] .colab-df-convert {\n",
              "      background-color: #3B4455;\n",
              "      fill: #D2E3FC;\n",
              "    }\n",
              "\n",
              "    [theme=dark] .colab-df-convert:hover {\n",
              "      background-color: #434B5C;\n",
              "      box-shadow: 0px 1px 3px 1px rgba(0, 0, 0, 0.15);\n",
              "      filter: drop-shadow(0px 1px 2px rgba(0, 0, 0, 0.3));\n",
              "      fill: #FFFFFF;\n",
              "    }\n",
              "  </style>\n",
              "\n",
              "    <script>\n",
              "      const buttonEl =\n",
              "        document.querySelector('#df-f66ddcae-a86c-4b8e-866d-6349a52968a7 button.colab-df-convert');\n",
              "      buttonEl.style.display =\n",
              "        google.colab.kernel.accessAllowed ? 'block' : 'none';\n",
              "\n",
              "      async function convertToInteractive(key) {\n",
              "        const element = document.querySelector('#df-f66ddcae-a86c-4b8e-866d-6349a52968a7');\n",
              "        const dataTable =\n",
              "          await google.colab.kernel.invokeFunction('convertToInteractive',\n",
              "                                                    [key], {});\n",
              "        if (!dataTable) return;\n",
              "\n",
              "        const docLinkHtml = 'Like what you see? Visit the ' +\n",
              "          '<a target=\"_blank\" href=https://colab.research.google.com/notebooks/data_table.ipynb>data table notebook</a>'\n",
              "          + ' to learn more about interactive tables.';\n",
              "        element.innerHTML = '';\n",
              "        dataTable['output_type'] = 'display_data';\n",
              "        await google.colab.output.renderOutput(dataTable, element);\n",
              "        const docLink = document.createElement('div');\n",
              "        docLink.innerHTML = docLinkHtml;\n",
              "        element.appendChild(docLink);\n",
              "      }\n",
              "    </script>\n",
              "  </div>\n",
              "\n",
              "\n",
              "<div id=\"df-d9d843fc-5d33-46d8-ba5d-e1244545498a\">\n",
              "  <button class=\"colab-df-quickchart\" onclick=\"quickchart('df-d9d843fc-5d33-46d8-ba5d-e1244545498a')\"\n",
              "            title=\"Suggest charts\"\n",
              "            style=\"display:none;\">\n",
              "\n",
              "<svg xmlns=\"http://www.w3.org/2000/svg\" height=\"24px\"viewBox=\"0 0 24 24\"\n",
              "     width=\"24px\">\n",
              "    <g>\n",
              "        <path d=\"M19 3H5c-1.1 0-2 .9-2 2v14c0 1.1.9 2 2 2h14c1.1 0 2-.9 2-2V5c0-1.1-.9-2-2-2zM9 17H7v-7h2v7zm4 0h-2V7h2v10zm4 0h-2v-4h2v4z\"/>\n",
              "    </g>\n",
              "</svg>\n",
              "  </button>\n",
              "\n",
              "<style>\n",
              "  .colab-df-quickchart {\n",
              "      --bg-color: #E8F0FE;\n",
              "      --fill-color: #1967D2;\n",
              "      --hover-bg-color: #E2EBFA;\n",
              "      --hover-fill-color: #174EA6;\n",
              "      --disabled-fill-color: #AAA;\n",
              "      --disabled-bg-color: #DDD;\n",
              "  }\n",
              "\n",
              "  [theme=dark] .colab-df-quickchart {\n",
              "      --bg-color: #3B4455;\n",
              "      --fill-color: #D2E3FC;\n",
              "      --hover-bg-color: #434B5C;\n",
              "      --hover-fill-color: #FFFFFF;\n",
              "      --disabled-bg-color: #3B4455;\n",
              "      --disabled-fill-color: #666;\n",
              "  }\n",
              "\n",
              "  .colab-df-quickchart {\n",
              "    background-color: var(--bg-color);\n",
              "    border: none;\n",
              "    border-radius: 50%;\n",
              "    cursor: pointer;\n",
              "    display: none;\n",
              "    fill: var(--fill-color);\n",
              "    height: 32px;\n",
              "    padding: 0;\n",
              "    width: 32px;\n",
              "  }\n",
              "\n",
              "  .colab-df-quickchart:hover {\n",
              "    background-color: var(--hover-bg-color);\n",
              "    box-shadow: 0 1px 2px rgba(60, 64, 67, 0.3), 0 1px 3px 1px rgba(60, 64, 67, 0.15);\n",
              "    fill: var(--button-hover-fill-color);\n",
              "  }\n",
              "\n",
              "  .colab-df-quickchart-complete:disabled,\n",
              "  .colab-df-quickchart-complete:disabled:hover {\n",
              "    background-color: var(--disabled-bg-color);\n",
              "    fill: var(--disabled-fill-color);\n",
              "    box-shadow: none;\n",
              "  }\n",
              "\n",
              "  .colab-df-spinner {\n",
              "    border: 2px solid var(--fill-color);\n",
              "    border-color: transparent;\n",
              "    border-bottom-color: var(--fill-color);\n",
              "    animation:\n",
              "      spin 1s steps(1) infinite;\n",
              "  }\n",
              "\n",
              "  @keyframes spin {\n",
              "    0% {\n",
              "      border-color: transparent;\n",
              "      border-bottom-color: var(--fill-color);\n",
              "      border-left-color: var(--fill-color);\n",
              "    }\n",
              "    20% {\n",
              "      border-color: transparent;\n",
              "      border-left-color: var(--fill-color);\n",
              "      border-top-color: var(--fill-color);\n",
              "    }\n",
              "    30% {\n",
              "      border-color: transparent;\n",
              "      border-left-color: var(--fill-color);\n",
              "      border-top-color: var(--fill-color);\n",
              "      border-right-color: var(--fill-color);\n",
              "    }\n",
              "    40% {\n",
              "      border-color: transparent;\n",
              "      border-right-color: var(--fill-color);\n",
              "      border-top-color: var(--fill-color);\n",
              "    }\n",
              "    60% {\n",
              "      border-color: transparent;\n",
              "      border-right-color: var(--fill-color);\n",
              "    }\n",
              "    80% {\n",
              "      border-color: transparent;\n",
              "      border-right-color: var(--fill-color);\n",
              "      border-bottom-color: var(--fill-color);\n",
              "    }\n",
              "    90% {\n",
              "      border-color: transparent;\n",
              "      border-bottom-color: var(--fill-color);\n",
              "    }\n",
              "  }\n",
              "</style>\n",
              "\n",
              "  <script>\n",
              "    async function quickchart(key) {\n",
              "      const quickchartButtonEl =\n",
              "        document.querySelector('#' + key + ' button');\n",
              "      quickchartButtonEl.disabled = true;  // To prevent multiple clicks.\n",
              "      quickchartButtonEl.classList.add('colab-df-spinner');\n",
              "      try {\n",
              "        const charts = await google.colab.kernel.invokeFunction(\n",
              "            'suggestCharts', [key], {});\n",
              "      } catch (error) {\n",
              "        console.error('Error during call to suggestCharts:', error);\n",
              "      }\n",
              "      quickchartButtonEl.classList.remove('colab-df-spinner');\n",
              "      quickchartButtonEl.classList.add('colab-df-quickchart-complete');\n",
              "    }\n",
              "    (() => {\n",
              "      let quickchartButtonEl =\n",
              "        document.querySelector('#df-d9d843fc-5d33-46d8-ba5d-e1244545498a button');\n",
              "      quickchartButtonEl.style.display =\n",
              "        google.colab.kernel.accessAllowed ? 'block' : 'none';\n",
              "    })();\n",
              "  </script>\n",
              "</div>\n",
              "\n",
              "  <div id=\"id_fff2dc94-e884-462f-8c46-d5e3dca996c7\">\n",
              "    <style>\n",
              "      .colab-df-generate {\n",
              "        background-color: #E8F0FE;\n",
              "        border: none;\n",
              "        border-radius: 50%;\n",
              "        cursor: pointer;\n",
              "        display: none;\n",
              "        fill: #1967D2;\n",
              "        height: 32px;\n",
              "        padding: 0 0 0 0;\n",
              "        width: 32px;\n",
              "      }\n",
              "\n",
              "      .colab-df-generate:hover {\n",
              "        background-color: #E2EBFA;\n",
              "        box-shadow: 0px 1px 2px rgba(60, 64, 67, 0.3), 0px 1px 3px 1px rgba(60, 64, 67, 0.15);\n",
              "        fill: #174EA6;\n",
              "      }\n",
              "\n",
              "      [theme=dark] .colab-df-generate {\n",
              "        background-color: #3B4455;\n",
              "        fill: #D2E3FC;\n",
              "      }\n",
              "\n",
              "      [theme=dark] .colab-df-generate:hover {\n",
              "        background-color: #434B5C;\n",
              "        box-shadow: 0px 1px 3px 1px rgba(0, 0, 0, 0.15);\n",
              "        filter: drop-shadow(0px 1px 2px rgba(0, 0, 0, 0.3));\n",
              "        fill: #FFFFFF;\n",
              "      }\n",
              "    </style>\n",
              "    <button class=\"colab-df-generate\" onclick=\"generateWithVariable('txt')\"\n",
              "            title=\"Generate code using this dataframe.\"\n",
              "            style=\"display:none;\">\n",
              "\n",
              "  <svg xmlns=\"http://www.w3.org/2000/svg\" height=\"24px\"viewBox=\"0 0 24 24\"\n",
              "       width=\"24px\">\n",
              "    <path d=\"M7,19H8.4L18.45,9,17,7.55,7,17.6ZM5,21V16.75L18.45,3.32a2,2,0,0,1,2.83,0l1.4,1.43a1.91,1.91,0,0,1,.58,1.4,1.91,1.91,0,0,1-.58,1.4L9.25,21ZM18.45,9,17,7.55Zm-12,3A5.31,5.31,0,0,0,4.9,8.1,5.31,5.31,0,0,0,1,6.5,5.31,5.31,0,0,0,4.9,4.9,5.31,5.31,0,0,0,6.5,1,5.31,5.31,0,0,0,8.1,4.9,5.31,5.31,0,0,0,12,6.5,5.46,5.46,0,0,0,6.5,12Z\"/>\n",
              "  </svg>\n",
              "    </button>\n",
              "    <script>\n",
              "      (() => {\n",
              "      const buttonEl =\n",
              "        document.querySelector('#id_fff2dc94-e884-462f-8c46-d5e3dca996c7 button.colab-df-generate');\n",
              "      buttonEl.style.display =\n",
              "        google.colab.kernel.accessAllowed ? 'block' : 'none';\n",
              "\n",
              "      buttonEl.onclick = () => {\n",
              "        google.colab.notebook.generateWithVariable('txt');\n",
              "      }\n",
              "      })();\n",
              "    </script>\n",
              "  </div>\n",
              "\n",
              "    </div>\n",
              "  </div>\n"
            ],
            "application/vnd.google.colaboratory.intrinsic+json": {
              "type": "dataframe",
              "variable_name": "txt",
              "summary": "{\n  \"name\": \"txt\",\n  \"rows\": 26,\n  \"fields\": [\n    {\n      \"column\": \"State\",\n      \"properties\": {\n        \"dtype\": \"string\",\n        \"samples\": [\n          \"I\",\n          \"Q\",\n          \"A\"\n        ],\n        \"num_unique_values\": 26,\n        \"semantic_type\": \"\",\n        \"description\": \"\"\n      }\n    },\n    {\n      \"column\": \"Literacy\",\n      \"properties\": {\n        \"dtype\": \"number\",\n        \"std\": 12,\n        \"min\": 55,\n        \"max\": 94,\n        \"samples\": [\n          89,\n          55,\n          92\n        ],\n        \"num_unique_values\": 26,\n        \"semantic_type\": \"\",\n        \"description\": \"\"\n      }\n    },\n    {\n      \"column\": \"Cleanliness\",\n      \"properties\": {\n        \"dtype\": \"number\",\n        \"std\": 8,\n        \"min\": 63,\n        \"max\": 92,\n        \"samples\": [\n          88,\n          66,\n          90\n        ],\n        \"num_unique_values\": 26,\n        \"semantic_type\": \"\",\n        \"description\": \"\"\n      }\n    },\n    {\n      \"column\": \"Crime_Rate\",\n      \"properties\": {\n        \"dtype\": \"number\",\n        \"std\": 6,\n        \"min\": 41,\n        \"max\": 63,\n        \"samples\": [\n          54,\n          52,\n          53\n        ],\n        \"num_unique_values\": 22,\n        \"semantic_type\": \"\",\n        \"description\": \"\"\n      }\n    },\n    {\n      \"column\": \"Good\",\n      \"properties\": {\n        \"dtype\": \"number\",\n        \"std\": 0,\n        \"min\": 0,\n        \"max\": 1,\n        \"samples\": [\n          1,\n          0\n        ],\n        \"num_unique_values\": 2,\n        \"semantic_type\": \"\",\n        \"description\": \"\"\n      }\n    }\n  ]\n}"
            }
          },
          "metadata": {},
          "execution_count": 17
        }
      ]
    },
    {
      "cell_type": "code",
      "source": [
        "from sklearn.tree import DecisionTreeClassifier"
      ],
      "metadata": {
        "id": "0ExONXmUbaZF"
      },
      "execution_count": null,
      "outputs": []
    },
    {
      "cell_type": "code",
      "source": [
        "DT=DecisionTreeClassifier()"
      ],
      "metadata": {
        "id": "KMfcufFsbcyM"
      },
      "execution_count": null,
      "outputs": []
    },
    {
      "cell_type": "code",
      "source": [
        "tar=txt.Good"
      ],
      "metadata": {
        "id": "hdNEH4AccGsV"
      },
      "execution_count": null,
      "outputs": []
    },
    {
      "cell_type": "code",
      "source": [
        "f1=[\"Literacy\"\t,\"Cleanliness\"\t,\"Crime_Rate\"]\n",
        "feat=txt[f1]"
      ],
      "metadata": {
        "id": "TAe3nchwcNKs"
      },
      "execution_count": null,
      "outputs": []
    },
    {
      "cell_type": "code",
      "source": [
        "DT.fit(feat,tar)"
      ],
      "metadata": {
        "colab": {
          "base_uri": "https://localhost:8080/",
          "height": 74
        },
        "id": "e3DZKOm9eBah",
        "outputId": "ed145798-879f-4134-b88b-ce32af7d2b45"
      },
      "execution_count": null,
      "outputs": [
        {
          "output_type": "execute_result",
          "data": {
            "text/plain": [
              "DecisionTreeClassifier()"
            ],
            "text/html": [
              "<style>#sk-container-id-3 {color: black;background-color: white;}#sk-container-id-3 pre{padding: 0;}#sk-container-id-3 div.sk-toggleable {background-color: white;}#sk-container-id-3 label.sk-toggleable__label {cursor: pointer;display: block;width: 100%;margin-bottom: 0;padding: 0.3em;box-sizing: border-box;text-align: center;}#sk-container-id-3 label.sk-toggleable__label-arrow:before {content: \"▸\";float: left;margin-right: 0.25em;color: #696969;}#sk-container-id-3 label.sk-toggleable__label-arrow:hover:before {color: black;}#sk-container-id-3 div.sk-estimator:hover label.sk-toggleable__label-arrow:before {color: black;}#sk-container-id-3 div.sk-toggleable__content {max-height: 0;max-width: 0;overflow: hidden;text-align: left;background-color: #f0f8ff;}#sk-container-id-3 div.sk-toggleable__content pre {margin: 0.2em;color: black;border-radius: 0.25em;background-color: #f0f8ff;}#sk-container-id-3 input.sk-toggleable__control:checked~div.sk-toggleable__content {max-height: 200px;max-width: 100%;overflow: auto;}#sk-container-id-3 input.sk-toggleable__control:checked~label.sk-toggleable__label-arrow:before {content: \"▾\";}#sk-container-id-3 div.sk-estimator input.sk-toggleable__control:checked~label.sk-toggleable__label {background-color: #d4ebff;}#sk-container-id-3 div.sk-label input.sk-toggleable__control:checked~label.sk-toggleable__label {background-color: #d4ebff;}#sk-container-id-3 input.sk-hidden--visually {border: 0;clip: rect(1px 1px 1px 1px);clip: rect(1px, 1px, 1px, 1px);height: 1px;margin: -1px;overflow: hidden;padding: 0;position: absolute;width: 1px;}#sk-container-id-3 div.sk-estimator {font-family: monospace;background-color: #f0f8ff;border: 1px dotted black;border-radius: 0.25em;box-sizing: border-box;margin-bottom: 0.5em;}#sk-container-id-3 div.sk-estimator:hover {background-color: #d4ebff;}#sk-container-id-3 div.sk-parallel-item::after {content: \"\";width: 100%;border-bottom: 1px solid gray;flex-grow: 1;}#sk-container-id-3 div.sk-label:hover label.sk-toggleable__label {background-color: #d4ebff;}#sk-container-id-3 div.sk-serial::before {content: \"\";position: absolute;border-left: 1px solid gray;box-sizing: border-box;top: 0;bottom: 0;left: 50%;z-index: 0;}#sk-container-id-3 div.sk-serial {display: flex;flex-direction: column;align-items: center;background-color: white;padding-right: 0.2em;padding-left: 0.2em;position: relative;}#sk-container-id-3 div.sk-item {position: relative;z-index: 1;}#sk-container-id-3 div.sk-parallel {display: flex;align-items: stretch;justify-content: center;background-color: white;position: relative;}#sk-container-id-3 div.sk-item::before, #sk-container-id-3 div.sk-parallel-item::before {content: \"\";position: absolute;border-left: 1px solid gray;box-sizing: border-box;top: 0;bottom: 0;left: 50%;z-index: -1;}#sk-container-id-3 div.sk-parallel-item {display: flex;flex-direction: column;z-index: 1;position: relative;background-color: white;}#sk-container-id-3 div.sk-parallel-item:first-child::after {align-self: flex-end;width: 50%;}#sk-container-id-3 div.sk-parallel-item:last-child::after {align-self: flex-start;width: 50%;}#sk-container-id-3 div.sk-parallel-item:only-child::after {width: 0;}#sk-container-id-3 div.sk-dashed-wrapped {border: 1px dashed gray;margin: 0 0.4em 0.5em 0.4em;box-sizing: border-box;padding-bottom: 0.4em;background-color: white;}#sk-container-id-3 div.sk-label label {font-family: monospace;font-weight: bold;display: inline-block;line-height: 1.2em;}#sk-container-id-3 div.sk-label-container {text-align: center;}#sk-container-id-3 div.sk-container {/* jupyter's `normalize.less` sets `[hidden] { display: none; }` but bootstrap.min.css set `[hidden] { display: none !important; }` so we also need the `!important` here to be able to override the default hidden behavior on the sphinx rendered scikit-learn.org. See: https://github.com/scikit-learn/scikit-learn/issues/21755 */display: inline-block !important;position: relative;}#sk-container-id-3 div.sk-text-repr-fallback {display: none;}</style><div id=\"sk-container-id-3\" class=\"sk-top-container\"><div class=\"sk-text-repr-fallback\"><pre>DecisionTreeClassifier()</pre><b>In a Jupyter environment, please rerun this cell to show the HTML representation or trust the notebook. <br />On GitHub, the HTML representation is unable to render, please try loading this page with nbviewer.org.</b></div><div class=\"sk-container\" hidden><div class=\"sk-item\"><div class=\"sk-estimator sk-toggleable\"><input class=\"sk-toggleable__control sk-hidden--visually\" id=\"sk-estimator-id-3\" type=\"checkbox\" checked><label for=\"sk-estimator-id-3\" class=\"sk-toggleable__label sk-toggleable__label-arrow\">DecisionTreeClassifier</label><div class=\"sk-toggleable__content\"><pre>DecisionTreeClassifier()</pre></div></div></div></div></div>"
            ]
          },
          "metadata": {},
          "execution_count": 24
        }
      ]
    },
    {
      "cell_type": "code",
      "source": [
        "re=DT.predict([[90,90,51]])\n",
        "print(re)"
      ],
      "metadata": {
        "colab": {
          "base_uri": "https://localhost:8080/"
        },
        "id": "4wlr9WqdeMOm",
        "outputId": "669e22e3-b0cb-4062-c357-4a2987b0d76f"
      },
      "execution_count": null,
      "outputs": [
        {
          "output_type": "stream",
          "name": "stdout",
          "text": [
            "[0]\n"
          ]
        },
        {
          "output_type": "stream",
          "name": "stderr",
          "text": [
            "/usr/local/lib/python3.10/dist-packages/sklearn/base.py:439: UserWarning: X does not have valid feature names, but DecisionTreeClassifier was fitted with feature names\n",
            "  warnings.warn(\n"
          ]
        }
      ]
    },
    {
      "cell_type": "code",
      "source": [
        "if re==[0]:\n",
        "  print(\"bad\")\n",
        "else:\n",
        "  print(\"good\")"
      ],
      "metadata": {
        "colab": {
          "base_uri": "https://localhost:8080/"
        },
        "id": "CuynkYlof3Ra",
        "outputId": "7ff1238d-ffe8-4f40-a180-0d2c67610bdb"
      },
      "execution_count": null,
      "outputs": [
        {
          "output_type": "stream",
          "name": "stdout",
          "text": [
            "bad\n"
          ]
        }
      ]
    },
    {
      "cell_type": "code",
      "source": [
        "l=int(input(\"Enter literacy\"))\n",
        "m=int(input(\"Enter Cleanliness\"))\n",
        "n=int(input(\"Enter Crime_rate\"))\n",
        "re=DT.predict([[l,m,n]])\n",
        "print(re)\n",
        "if re==[0]:\n",
        "  print(\"bad\")\n",
        "else:\n",
        "  print(\"good\")"
      ],
      "metadata": {
        "colab": {
          "base_uri": "https://localhost:8080/"
        },
        "id": "OJryp7LugRHd",
        "outputId": "a633a77e-bed7-460d-e34d-a65563b76573"
      },
      "execution_count": null,
      "outputs": [
        {
          "output_type": "stream",
          "name": "stdout",
          "text": [
            "Enter literacy67\n",
            "Enter Cleanliness89\n",
            "Enter Crime_rate10\n",
            "[1]\n",
            "good\n"
          ]
        },
        {
          "output_type": "stream",
          "name": "stderr",
          "text": [
            "/usr/local/lib/python3.10/dist-packages/sklearn/base.py:439: UserWarning: X does not have valid feature names, but DecisionTreeClassifier was fitted with feature names\n",
            "  warnings.warn(\n"
          ]
        }
      ]
    },
    {
      "cell_type": "markdown",
      "source": [
        "Random forest:\n",
        "\n",
        "collection of multiple decision trees\n",
        "\n",
        "Why we have RTs when we have DTs\n",
        "\n",
        "observe the below data\n",
        "\n",
        "y-target\n",
        "\n",
        "x0-x4=features\n",
        "\n",
        "Boot_straping\n",
        "\n",
        "having same number of rows and should have different row combination"
      ],
      "metadata": {
        "id": "aOeoKDAypmkd"
      }
    },
    {
      "cell_type": "code",
      "source": [],
      "metadata": {
        "id": "PiqNp7wWrFK5"
      },
      "execution_count": null,
      "outputs": []
    }
  ]
}