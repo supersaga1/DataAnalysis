{
  "nbformat": 4,
  "nbformat_minor": 0,
  "metadata": {
    "colab": {
      "provenance": []
    },
    "kernelspec": {
      "name": "python3",
      "display_name": "Python 3"
    },
    "language_info": {
      "name": "python"
    }
  },
  "cells": [
    {
      "cell_type": "code",
      "execution_count": null,
      "metadata": {
        "id": "csOFMSukMIdV"
      },
      "outputs": [],
      "source": [
        "from bs4 import BeautifulSoup as bs\n",
        "import requests as rq\n",
        "url='https://www.forbesindia.com/article/explainers/top-10-richest-people-india/85909/1'\n",
        "req=rq.get(url)\n",
        "#using BeautifulSoup() to access HTML code\n",
        "code=bs(req.text,'html')\n",
        "print(code)"
      ]
    },
    {
      "cell_type": "code",
      "source": [
        "#accessing table\n",
        "table=code.find('table')\n",
        "print(table)"
      ],
      "metadata": {
        "id": "LTO7ES0TOXbw"
      },
      "execution_count": null,
      "outputs": []
    },
    {
      "cell_type": "code",
      "source": [
        "#accessing tableheading\n",
        "heading=table.find_all('th')\n",
        "print(heading)"
      ],
      "metadata": {
        "colab": {
          "base_uri": "https://localhost:8080/"
        },
        "id": "Fqa1W2OiPWO0",
        "outputId": "52a3c7d4-b738-4e4a-b53d-1985ca46add8"
      },
      "execution_count": null,
      "outputs": [
        {
          "output_type": "stream",
          "name": "stdout",
          "text": [
            "[<th style=\"border: 1px solid black; padding: 8px;\"><strong>Name &amp; India Rank</strong></th>, <th style=\"border: 1px solid black; padding: 8px;\"><strong>Global Rank</strong></th>, <th style=\"border: 1px solid black; padding: 8px;\"><strong>Net worth (US$)</strong></th>, <th style=\"border: 1px solid black; padding: 8px;\"><strong>Company</strong></th>]\n"
          ]
        }
      ]
    },
    {
      "cell_type": "code",
      "source": [
        "import pandas as pd\n",
        "df=pd.DataFrame(columns=heading)\n",
        "print(df)"
      ],
      "metadata": {
        "colab": {
          "base_uri": "https://localhost:8080/"
        },
        "id": "ezeTKMyscQhE",
        "outputId": "c4bc5a84-67fc-4733-ce9d-1ac0df205182"
      },
      "execution_count": null,
      "outputs": [
        {
          "output_type": "stream",
          "name": "stdout",
          "text": [
            "Empty DataFrame\n",
            "Columns: [([Name & India Rank], [Global Rank], [Net worth (US$)], [Company])]\n",
            "Index: []\n"
          ]
        }
      ]
    },
    {
      "cell_type": "code",
      "source": [
        "list=[i.text for i in heading]\n",
        "print(list)"
      ],
      "metadata": {
        "colab": {
          "base_uri": "https://localhost:8080/"
        },
        "id": "6yA33x9NQ0zq",
        "outputId": "374848df-bf2c-4988-f1d8-b215973d629d"
      },
      "execution_count": null,
      "outputs": [
        {
          "output_type": "stream",
          "name": "stdout",
          "text": [
            "['Name & India Rank', 'Global Rank', 'Net worth (US$)', 'Company']\n"
          ]
        }
      ]
    },
    {
      "cell_type": "code",
      "source": [
        "rows=table.find_all('tr')\n",
        "print(rows)"
      ],
      "metadata": {
        "id": "yQEP_WnxT7oT"
      },
      "execution_count": null,
      "outputs": []
    },
    {
      "cell_type": "code",
      "source": [
        "data=[i.text for i in rows]\n",
        "print(data)"
      ],
      "metadata": {
        "colab": {
          "base_uri": "https://localhost:8080/"
        },
        "id": "4n2EF42CVHNs",
        "outputId": "5cb02f23-9f33-4d75-8147-f3ad852f3fef"
      },
      "execution_count": null,
      "outputs": [
        {
          "output_type": "stream",
          "name": "stdout",
          "text": [
            "['\\nName & India Rank\\nGlobal Rank\\nNet worth (US$)\\nCompany\\n', '\\n#1 Mukesh Ambani \\n11\\n$113.0 B\\nReliance Industries\\n', '\\n#2 Gautam Adani \\n16\\n$81.2 B\\nAdani Group\\n', '\\n#3 Shiv Nadar \\n37\\n$37.1 B\\nHCL Technologies\\xa0\\xa0 \\n', '\\n#4 Savitri Jindal & family \\n58\\n$28.9 B\\nJSW Group\\n', '\\n#5 Cyrus Poonawalla \\n68\\n$25.6 B\\nSerum Institute of India\\n', '\\n#6 Dilip Shanghvi \\n69\\n$25.5 B\\nSun Pharmaceutical Industries Ltd\\n', '#7 Kumar Birla \\n97\\n$18.9 B\\nAditya Birla Group\\n', '\\n#8 Kushal Pal Singh\\n98\\n$18.9 B\\nDLF Limited\\n', '\\n', '\\n#9 Lakshmi Mittal \\n102\\n$17.2 B\\nArcelorMittal\\n', '#10 Radhakishan Damani \\n105\\n$16.7 B\\nDMart, Avenue Supermarts\\n']\n"
          ]
        }
      ]
    },
    {
      "cell_type": "code",
      "source": [
        "for i in rows[1:8]:\n",
        "  rd=i.find_all('td')\n",
        "  eachrow=[i.text for i in rd]\n",
        "  print(eachrow)"
      ],
      "metadata": {
        "colab": {
          "base_uri": "https://localhost:8080/"
        },
        "id": "Lh9We41UWmdv",
        "outputId": "31e34064-f431-4253-fb55-a9a6274bd33c"
      },
      "execution_count": null,
      "outputs": [
        {
          "output_type": "stream",
          "name": "stdout",
          "text": [
            "['#1 Mukesh Ambani ', '11', '$113.0 B', 'Reliance Industries']\n",
            "['#2 Gautam Adani ', '16', '$81.2 B', 'Adani Group']\n",
            "['#3 Shiv Nadar ', '37', '$37.1 B', 'HCL Technologies\\xa0\\xa0 ']\n",
            "['#4 Savitri Jindal & family ', '58', '$28.9 B', 'JSW Group']\n",
            "['#5 Cyrus Poonawalla ', '68', '$25.6 B', 'Serum Institute of India']\n",
            "['#6 Dilip Shanghvi ', '69', '$25.5 B', 'Sun Pharmaceutical Industries Ltd']\n",
            "['#7 Kumar Birla ', '97', '$18.9 B', 'Aditya Birla Group']\n"
          ]
        }
      ]
    },
    {
      "cell_type": "code",
      "source": [
        "head=[i.text for i in heading]"
      ],
      "metadata": {
        "id": "EtTBBuQbk3bJ"
      },
      "execution_count": null,
      "outputs": []
    },
    {
      "cell_type": "code",
      "source": [
        "df=pd.DataFrame(columns=head)\n",
        "print(df)"
      ],
      "metadata": {
        "colab": {
          "base_uri": "https://localhost:8080/"
        },
        "id": "qeWSEC2BlW05",
        "outputId": "9b59cc91-379c-4d94-abd6-058f550c857b"
      },
      "execution_count": null,
      "outputs": [
        {
          "output_type": "stream",
          "name": "stdout",
          "text": [
            "Empty DataFrame\n",
            "Columns: [Name & India Rank, Global Rank, Net worth (US$), Company]\n",
            "Index: []\n"
          ]
        }
      ]
    },
    {
      "cell_type": "code",
      "source": [
        "a=0\n",
        "for i in rows[1:9]:\n",
        "  rd=i.find_all('td')\n",
        "  er=[i.text for i in rd]\n",
        "  df.loc[a]=er\n",
        "  a=a+1\n",
        "df\n"
      ],
      "metadata": {
        "colab": {
          "base_uri": "https://localhost:8080/",
          "height": 300
        },
        "id": "C3FOGW6IjwxQ",
        "outputId": "6b099fa1-bf49-4b87-fce5-eed5603cd12d"
      },
      "execution_count": null,
      "outputs": [
        {
          "output_type": "execute_result",
          "data": {
            "text/plain": [
              "             Name & India Rank Global Rank Net worth (US$)  \\\n",
              "0            #1 Mukesh Ambani           11        $113.0 B   \n",
              "1             #2 Gautam Adani           16         $81.2 B   \n",
              "2               #3 Shiv Nadar           37         $37.1 B   \n",
              "3  #4 Savitri Jindal & family           58         $28.9 B   \n",
              "4         #5 Cyrus Poonawalla           68         $25.6 B   \n",
              "5           #6 Dilip Shanghvi           69         $25.5 B   \n",
              "6              #7 Kumar Birla           97         $18.9 B   \n",
              "7          #8 Kushal Pal Singh          98         $18.9 B   \n",
              "\n",
              "                             Company  \n",
              "0                Reliance Industries  \n",
              "1                        Adani Group  \n",
              "2                HCL Technologies     \n",
              "3                          JSW Group  \n",
              "4           Serum Institute of India  \n",
              "5  Sun Pharmaceutical Industries Ltd  \n",
              "6                 Aditya Birla Group  \n",
              "7                        DLF Limited  "
            ],
            "text/html": [
              "\n",
              "  <div id=\"df-4461a128-a00b-4c79-bc8f-695b5e413ca9\" class=\"colab-df-container\">\n",
              "    <div>\n",
              "<style scoped>\n",
              "    .dataframe tbody tr th:only-of-type {\n",
              "        vertical-align: middle;\n",
              "    }\n",
              "\n",
              "    .dataframe tbody tr th {\n",
              "        vertical-align: top;\n",
              "    }\n",
              "\n",
              "    .dataframe thead th {\n",
              "        text-align: right;\n",
              "    }\n",
              "</style>\n",
              "<table border=\"1\" class=\"dataframe\">\n",
              "  <thead>\n",
              "    <tr style=\"text-align: right;\">\n",
              "      <th></th>\n",
              "      <th>Name &amp; India Rank</th>\n",
              "      <th>Global Rank</th>\n",
              "      <th>Net worth (US$)</th>\n",
              "      <th>Company</th>\n",
              "    </tr>\n",
              "  </thead>\n",
              "  <tbody>\n",
              "    <tr>\n",
              "      <th>0</th>\n",
              "      <td>#1 Mukesh Ambani</td>\n",
              "      <td>11</td>\n",
              "      <td>$113.0 B</td>\n",
              "      <td>Reliance Industries</td>\n",
              "    </tr>\n",
              "    <tr>\n",
              "      <th>1</th>\n",
              "      <td>#2 Gautam Adani</td>\n",
              "      <td>16</td>\n",
              "      <td>$81.2 B</td>\n",
              "      <td>Adani Group</td>\n",
              "    </tr>\n",
              "    <tr>\n",
              "      <th>2</th>\n",
              "      <td>#3 Shiv Nadar</td>\n",
              "      <td>37</td>\n",
              "      <td>$37.1 B</td>\n",
              "      <td>HCL Technologies</td>\n",
              "    </tr>\n",
              "    <tr>\n",
              "      <th>3</th>\n",
              "      <td>#4 Savitri Jindal &amp; family</td>\n",
              "      <td>58</td>\n",
              "      <td>$28.9 B</td>\n",
              "      <td>JSW Group</td>\n",
              "    </tr>\n",
              "    <tr>\n",
              "      <th>4</th>\n",
              "      <td>#5 Cyrus Poonawalla</td>\n",
              "      <td>68</td>\n",
              "      <td>$25.6 B</td>\n",
              "      <td>Serum Institute of India</td>\n",
              "    </tr>\n",
              "    <tr>\n",
              "      <th>5</th>\n",
              "      <td>#6 Dilip Shanghvi</td>\n",
              "      <td>69</td>\n",
              "      <td>$25.5 B</td>\n",
              "      <td>Sun Pharmaceutical Industries Ltd</td>\n",
              "    </tr>\n",
              "    <tr>\n",
              "      <th>6</th>\n",
              "      <td>#7 Kumar Birla</td>\n",
              "      <td>97</td>\n",
              "      <td>$18.9 B</td>\n",
              "      <td>Aditya Birla Group</td>\n",
              "    </tr>\n",
              "    <tr>\n",
              "      <th>7</th>\n",
              "      <td>#8 Kushal Pal Singh</td>\n",
              "      <td>98</td>\n",
              "      <td>$18.9 B</td>\n",
              "      <td>DLF Limited</td>\n",
              "    </tr>\n",
              "  </tbody>\n",
              "</table>\n",
              "</div>\n",
              "    <div class=\"colab-df-buttons\">\n",
              "\n",
              "  <div class=\"colab-df-container\">\n",
              "    <button class=\"colab-df-convert\" onclick=\"convertToInteractive('df-4461a128-a00b-4c79-bc8f-695b5e413ca9')\"\n",
              "            title=\"Convert this dataframe to an interactive table.\"\n",
              "            style=\"display:none;\">\n",
              "\n",
              "  <svg xmlns=\"http://www.w3.org/2000/svg\" height=\"24px\" viewBox=\"0 -960 960 960\">\n",
              "    <path d=\"M120-120v-720h720v720H120Zm60-500h600v-160H180v160Zm220 220h160v-160H400v160Zm0 220h160v-160H400v160ZM180-400h160v-160H180v160Zm440 0h160v-160H620v160ZM180-180h160v-160H180v160Zm440 0h160v-160H620v160Z\"/>\n",
              "  </svg>\n",
              "    </button>\n",
              "\n",
              "  <style>\n",
              "    .colab-df-container {\n",
              "      display:flex;\n",
              "      gap: 12px;\n",
              "    }\n",
              "\n",
              "    .colab-df-convert {\n",
              "      background-color: #E8F0FE;\n",
              "      border: none;\n",
              "      border-radius: 50%;\n",
              "      cursor: pointer;\n",
              "      display: none;\n",
              "      fill: #1967D2;\n",
              "      height: 32px;\n",
              "      padding: 0 0 0 0;\n",
              "      width: 32px;\n",
              "    }\n",
              "\n",
              "    .colab-df-convert:hover {\n",
              "      background-color: #E2EBFA;\n",
              "      box-shadow: 0px 1px 2px rgba(60, 64, 67, 0.3), 0px 1px 3px 1px rgba(60, 64, 67, 0.15);\n",
              "      fill: #174EA6;\n",
              "    }\n",
              "\n",
              "    .colab-df-buttons div {\n",
              "      margin-bottom: 4px;\n",
              "    }\n",
              "\n",
              "    [theme=dark] .colab-df-convert {\n",
              "      background-color: #3B4455;\n",
              "      fill: #D2E3FC;\n",
              "    }\n",
              "\n",
              "    [theme=dark] .colab-df-convert:hover {\n",
              "      background-color: #434B5C;\n",
              "      box-shadow: 0px 1px 3px 1px rgba(0, 0, 0, 0.15);\n",
              "      filter: drop-shadow(0px 1px 2px rgba(0, 0, 0, 0.3));\n",
              "      fill: #FFFFFF;\n",
              "    }\n",
              "  </style>\n",
              "\n",
              "    <script>\n",
              "      const buttonEl =\n",
              "        document.querySelector('#df-4461a128-a00b-4c79-bc8f-695b5e413ca9 button.colab-df-convert');\n",
              "      buttonEl.style.display =\n",
              "        google.colab.kernel.accessAllowed ? 'block' : 'none';\n",
              "\n",
              "      async function convertToInteractive(key) {\n",
              "        const element = document.querySelector('#df-4461a128-a00b-4c79-bc8f-695b5e413ca9');\n",
              "        const dataTable =\n",
              "          await google.colab.kernel.invokeFunction('convertToInteractive',\n",
              "                                                    [key], {});\n",
              "        if (!dataTable) return;\n",
              "\n",
              "        const docLinkHtml = 'Like what you see? Visit the ' +\n",
              "          '<a target=\"_blank\" href=https://colab.research.google.com/notebooks/data_table.ipynb>data table notebook</a>'\n",
              "          + ' to learn more about interactive tables.';\n",
              "        element.innerHTML = '';\n",
              "        dataTable['output_type'] = 'display_data';\n",
              "        await google.colab.output.renderOutput(dataTable, element);\n",
              "        const docLink = document.createElement('div');\n",
              "        docLink.innerHTML = docLinkHtml;\n",
              "        element.appendChild(docLink);\n",
              "      }\n",
              "    </script>\n",
              "  </div>\n",
              "\n",
              "\n",
              "<div id=\"df-3cb99a7f-9524-428f-b9d3-cdf88981cd3e\">\n",
              "  <button class=\"colab-df-quickchart\" onclick=\"quickchart('df-3cb99a7f-9524-428f-b9d3-cdf88981cd3e')\"\n",
              "            title=\"Suggest charts\"\n",
              "            style=\"display:none;\">\n",
              "\n",
              "<svg xmlns=\"http://www.w3.org/2000/svg\" height=\"24px\"viewBox=\"0 0 24 24\"\n",
              "     width=\"24px\">\n",
              "    <g>\n",
              "        <path d=\"M19 3H5c-1.1 0-2 .9-2 2v14c0 1.1.9 2 2 2h14c1.1 0 2-.9 2-2V5c0-1.1-.9-2-2-2zM9 17H7v-7h2v7zm4 0h-2V7h2v10zm4 0h-2v-4h2v4z\"/>\n",
              "    </g>\n",
              "</svg>\n",
              "  </button>\n",
              "\n",
              "<style>\n",
              "  .colab-df-quickchart {\n",
              "      --bg-color: #E8F0FE;\n",
              "      --fill-color: #1967D2;\n",
              "      --hover-bg-color: #E2EBFA;\n",
              "      --hover-fill-color: #174EA6;\n",
              "      --disabled-fill-color: #AAA;\n",
              "      --disabled-bg-color: #DDD;\n",
              "  }\n",
              "\n",
              "  [theme=dark] .colab-df-quickchart {\n",
              "      --bg-color: #3B4455;\n",
              "      --fill-color: #D2E3FC;\n",
              "      --hover-bg-color: #434B5C;\n",
              "      --hover-fill-color: #FFFFFF;\n",
              "      --disabled-bg-color: #3B4455;\n",
              "      --disabled-fill-color: #666;\n",
              "  }\n",
              "\n",
              "  .colab-df-quickchart {\n",
              "    background-color: var(--bg-color);\n",
              "    border: none;\n",
              "    border-radius: 50%;\n",
              "    cursor: pointer;\n",
              "    display: none;\n",
              "    fill: var(--fill-color);\n",
              "    height: 32px;\n",
              "    padding: 0;\n",
              "    width: 32px;\n",
              "  }\n",
              "\n",
              "  .colab-df-quickchart:hover {\n",
              "    background-color: var(--hover-bg-color);\n",
              "    box-shadow: 0 1px 2px rgba(60, 64, 67, 0.3), 0 1px 3px 1px rgba(60, 64, 67, 0.15);\n",
              "    fill: var(--button-hover-fill-color);\n",
              "  }\n",
              "\n",
              "  .colab-df-quickchart-complete:disabled,\n",
              "  .colab-df-quickchart-complete:disabled:hover {\n",
              "    background-color: var(--disabled-bg-color);\n",
              "    fill: var(--disabled-fill-color);\n",
              "    box-shadow: none;\n",
              "  }\n",
              "\n",
              "  .colab-df-spinner {\n",
              "    border: 2px solid var(--fill-color);\n",
              "    border-color: transparent;\n",
              "    border-bottom-color: var(--fill-color);\n",
              "    animation:\n",
              "      spin 1s steps(1) infinite;\n",
              "  }\n",
              "\n",
              "  @keyframes spin {\n",
              "    0% {\n",
              "      border-color: transparent;\n",
              "      border-bottom-color: var(--fill-color);\n",
              "      border-left-color: var(--fill-color);\n",
              "    }\n",
              "    20% {\n",
              "      border-color: transparent;\n",
              "      border-left-color: var(--fill-color);\n",
              "      border-top-color: var(--fill-color);\n",
              "    }\n",
              "    30% {\n",
              "      border-color: transparent;\n",
              "      border-left-color: var(--fill-color);\n",
              "      border-top-color: var(--fill-color);\n",
              "      border-right-color: var(--fill-color);\n",
              "    }\n",
              "    40% {\n",
              "      border-color: transparent;\n",
              "      border-right-color: var(--fill-color);\n",
              "      border-top-color: var(--fill-color);\n",
              "    }\n",
              "    60% {\n",
              "      border-color: transparent;\n",
              "      border-right-color: var(--fill-color);\n",
              "    }\n",
              "    80% {\n",
              "      border-color: transparent;\n",
              "      border-right-color: var(--fill-color);\n",
              "      border-bottom-color: var(--fill-color);\n",
              "    }\n",
              "    90% {\n",
              "      border-color: transparent;\n",
              "      border-bottom-color: var(--fill-color);\n",
              "    }\n",
              "  }\n",
              "</style>\n",
              "\n",
              "  <script>\n",
              "    async function quickchart(key) {\n",
              "      const quickchartButtonEl =\n",
              "        document.querySelector('#' + key + ' button');\n",
              "      quickchartButtonEl.disabled = true;  // To prevent multiple clicks.\n",
              "      quickchartButtonEl.classList.add('colab-df-spinner');\n",
              "      try {\n",
              "        const charts = await google.colab.kernel.invokeFunction(\n",
              "            'suggestCharts', [key], {});\n",
              "      } catch (error) {\n",
              "        console.error('Error during call to suggestCharts:', error);\n",
              "      }\n",
              "      quickchartButtonEl.classList.remove('colab-df-spinner');\n",
              "      quickchartButtonEl.classList.add('colab-df-quickchart-complete');\n",
              "    }\n",
              "    (() => {\n",
              "      let quickchartButtonEl =\n",
              "        document.querySelector('#df-3cb99a7f-9524-428f-b9d3-cdf88981cd3e button');\n",
              "      quickchartButtonEl.style.display =\n",
              "        google.colab.kernel.accessAllowed ? 'block' : 'none';\n",
              "    })();\n",
              "  </script>\n",
              "</div>\n",
              "\n",
              "  <div id=\"id_42cbe2b0-d753-41af-8970-cd0eb2a03e93\">\n",
              "    <style>\n",
              "      .colab-df-generate {\n",
              "        background-color: #E8F0FE;\n",
              "        border: none;\n",
              "        border-radius: 50%;\n",
              "        cursor: pointer;\n",
              "        display: none;\n",
              "        fill: #1967D2;\n",
              "        height: 32px;\n",
              "        padding: 0 0 0 0;\n",
              "        width: 32px;\n",
              "      }\n",
              "\n",
              "      .colab-df-generate:hover {\n",
              "        background-color: #E2EBFA;\n",
              "        box-shadow: 0px 1px 2px rgba(60, 64, 67, 0.3), 0px 1px 3px 1px rgba(60, 64, 67, 0.15);\n",
              "        fill: #174EA6;\n",
              "      }\n",
              "\n",
              "      [theme=dark] .colab-df-generate {\n",
              "        background-color: #3B4455;\n",
              "        fill: #D2E3FC;\n",
              "      }\n",
              "\n",
              "      [theme=dark] .colab-df-generate:hover {\n",
              "        background-color: #434B5C;\n",
              "        box-shadow: 0px 1px 3px 1px rgba(0, 0, 0, 0.15);\n",
              "        filter: drop-shadow(0px 1px 2px rgba(0, 0, 0, 0.3));\n",
              "        fill: #FFFFFF;\n",
              "      }\n",
              "    </style>\n",
              "    <button class=\"colab-df-generate\" onclick=\"generateWithVariable('df')\"\n",
              "            title=\"Generate code using this dataframe.\"\n",
              "            style=\"display:none;\">\n",
              "\n",
              "  <svg xmlns=\"http://www.w3.org/2000/svg\" height=\"24px\"viewBox=\"0 0 24 24\"\n",
              "       width=\"24px\">\n",
              "    <path d=\"M7,19H8.4L18.45,9,17,7.55,7,17.6ZM5,21V16.75L18.45,3.32a2,2,0,0,1,2.83,0l1.4,1.43a1.91,1.91,0,0,1,.58,1.4,1.91,1.91,0,0,1-.58,1.4L9.25,21ZM18.45,9,17,7.55Zm-12,3A5.31,5.31,0,0,0,4.9,8.1,5.31,5.31,0,0,0,1,6.5,5.31,5.31,0,0,0,4.9,4.9,5.31,5.31,0,0,0,6.5,1,5.31,5.31,0,0,0,8.1,4.9,5.31,5.31,0,0,0,12,6.5,5.46,5.46,0,0,0,6.5,12Z\"/>\n",
              "  </svg>\n",
              "    </button>\n",
              "    <script>\n",
              "      (() => {\n",
              "      const buttonEl =\n",
              "        document.querySelector('#id_42cbe2b0-d753-41af-8970-cd0eb2a03e93 button.colab-df-generate');\n",
              "      buttonEl.style.display =\n",
              "        google.colab.kernel.accessAllowed ? 'block' : 'none';\n",
              "\n",
              "      buttonEl.onclick = () => {\n",
              "        google.colab.notebook.generateWithVariable('df');\n",
              "      }\n",
              "      })();\n",
              "    </script>\n",
              "  </div>\n",
              "\n",
              "    </div>\n",
              "  </div>\n"
            ],
            "application/vnd.google.colaboratory.intrinsic+json": {
              "type": "dataframe",
              "variable_name": "df",
              "summary": "{\n  \"name\": \"df\",\n  \"rows\": 8,\n  \"fields\": [\n    {\n      \"column\": \"Name & India Rank\",\n      \"properties\": {\n        \"dtype\": \"string\",\n        \"samples\": [\n          \"#2 Gautam Adani \",\n          \"#6 Dilip Shanghvi \",\n          \"#1 Mukesh Ambani \"\n        ],\n        \"num_unique_values\": 8,\n        \"semantic_type\": \"\",\n        \"description\": \"\"\n      }\n    },\n    {\n      \"column\": \"Global Rank\",\n      \"properties\": {\n        \"dtype\": \"string\",\n        \"samples\": [\n          \"16\",\n          \"69\",\n          \"11\"\n        ],\n        \"num_unique_values\": 8,\n        \"semantic_type\": \"\",\n        \"description\": \"\"\n      }\n    },\n    {\n      \"column\": \"Net worth (US$)\",\n      \"properties\": {\n        \"dtype\": \"string\",\n        \"samples\": [\n          \"$113.0 B\",\n          \"$81.2 B\",\n          \"$25.5 B\"\n        ],\n        \"num_unique_values\": 7,\n        \"semantic_type\": \"\",\n        \"description\": \"\"\n      }\n    },\n    {\n      \"column\": \"Company\",\n      \"properties\": {\n        \"dtype\": \"string\",\n        \"samples\": [\n          \"Adani Group\",\n          \"Sun Pharmaceutical Industries Ltd\",\n          \"Reliance Industries\"\n        ],\n        \"num_unique_values\": 8,\n        \"semantic_type\": \"\",\n        \"description\": \"\"\n      }\n    }\n  ]\n}"
            }
          },
          "metadata": {},
          "execution_count": 76
        }
      ]
    },
    {
      "cell_type": "code",
      "source": [
        "df.to_csv(\"Richman.csv\")"
      ],
      "metadata": {
        "id": "-Ica1skanZaT"
      },
      "execution_count": null,
      "outputs": []
    }
  ]
}